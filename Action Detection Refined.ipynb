{
 "cells": [
  {
   "cell_type": "markdown",
   "metadata": {},
   "source": [
    "# 1. Import and Install Dependencies"
   ]
  },
  {
   "cell_type": "code",
   "execution_count": 1,
   "metadata": {},
   "outputs": [
    {
     "name": "stdout",
     "output_type": "stream",
     "text": [
      "Requirement already satisfied: tensorflow in c:\\programdata\\anaconda3\\lib\\site-packages (2.12.0)\n",
      "Requirement already satisfied: opencv-python in c:\\programdata\\anaconda3\\lib\\site-packages (4.7.0.72)\n",
      "Requirement already satisfied: mediapipe in c:\\programdata\\anaconda3\\lib\\site-packages (0.10.1)\n",
      "Requirement already satisfied: sklearn in c:\\programdata\\anaconda3\\lib\\site-packages (0.0.post5)\n",
      "Requirement already satisfied: matplotlib in c:\\programdata\\anaconda3\\lib\\site-packages (3.7.1)\n",
      "Requirement already satisfied: tensorflow-intel==2.12.0 in c:\\programdata\\anaconda3\\lib\\site-packages (from tensorflow) (2.12.0)\n",
      "Requirement already satisfied: typing-extensions>=3.6.6 in c:\\programdata\\anaconda3\\lib\\site-packages (from tensorflow-intel==2.12.0->tensorflow) (4.5.0)\n",
      "Requirement already satisfied: wrapt<1.15,>=1.11.0 in c:\\programdata\\anaconda3\\lib\\site-packages (from tensorflow-intel==2.12.0->tensorflow) (1.14.1)\n",
      "Requirement already satisfied: termcolor>=1.1.0 in c:\\programdata\\anaconda3\\lib\\site-packages (from tensorflow-intel==2.12.0->tensorflow) (2.3.0)\n",
      "Requirement already satisfied: protobuf!=4.21.0,!=4.21.1,!=4.21.2,!=4.21.3,!=4.21.4,!=4.21.5,<5.0.0dev,>=3.20.3 in c:\\programdata\\anaconda3\\lib\\site-packages (from tensorflow-intel==2.12.0->tensorflow) (3.20.3)\n",
      "Requirement already satisfied: packaging in c:\\programdata\\anaconda3\\lib\\site-packages (from tensorflow-intel==2.12.0->tensorflow) (23.0)\n",
      "Requirement already satisfied: astunparse>=1.6.0 in c:\\programdata\\anaconda3\\lib\\site-packages (from tensorflow-intel==2.12.0->tensorflow) (1.6.3)\n",
      "Requirement already satisfied: flatbuffers>=2.0 in c:\\programdata\\anaconda3\\lib\\site-packages (from tensorflow-intel==2.12.0->tensorflow) (23.5.26)\n",
      "Requirement already satisfied: opt-einsum>=2.3.2 in c:\\programdata\\anaconda3\\lib\\site-packages (from tensorflow-intel==2.12.0->tensorflow) (3.3.0)\n",
      "Requirement already satisfied: numpy<1.24,>=1.22 in c:\\programdata\\anaconda3\\lib\\site-packages (from tensorflow-intel==2.12.0->tensorflow) (1.23.5)\n",
      "Requirement already satisfied: grpcio<2.0,>=1.24.3 in c:\\programdata\\anaconda3\\lib\\site-packages (from tensorflow-intel==2.12.0->tensorflow) (1.54.2)\n",
      "Requirement already satisfied: keras<2.13,>=2.12.0 in c:\\programdata\\anaconda3\\lib\\site-packages (from tensorflow-intel==2.12.0->tensorflow) (2.12.0)\n",
      "Requirement already satisfied: google-pasta>=0.1.1 in c:\\programdata\\anaconda3\\lib\\site-packages (from tensorflow-intel==2.12.0->tensorflow) (0.2.0)\n",
      "Requirement already satisfied: tensorflow-estimator<2.13,>=2.12.0 in c:\\programdata\\anaconda3\\lib\\site-packages (from tensorflow-intel==2.12.0->tensorflow) (2.12.0)\n",
      "Requirement already satisfied: absl-py>=1.0.0 in c:\\programdata\\anaconda3\\lib\\site-packages (from tensorflow-intel==2.12.0->tensorflow) (1.4.0)\n",
      "Requirement already satisfied: setuptools in c:\\programdata\\anaconda3\\lib\\site-packages (from tensorflow-intel==2.12.0->tensorflow) (65.6.3)\n",
      "Requirement already satisfied: six>=1.12.0 in c:\\programdata\\anaconda3\\lib\\site-packages (from tensorflow-intel==2.12.0->tensorflow) (1.16.0)\n",
      "Requirement already satisfied: h5py>=2.9.0 in c:\\programdata\\anaconda3\\lib\\site-packages (from tensorflow-intel==2.12.0->tensorflow) (3.8.0)\n",
      "Requirement already satisfied: tensorboard<2.13,>=2.12 in c:\\programdata\\anaconda3\\lib\\site-packages (from tensorflow-intel==2.12.0->tensorflow) (2.12.3)\n",
      "Requirement already satisfied: libclang>=13.0.0 in c:\\programdata\\anaconda3\\lib\\site-packages (from tensorflow-intel==2.12.0->tensorflow) (16.0.0)\n",
      "Requirement already satisfied: tensorflow-io-gcs-filesystem>=0.23.1 in c:\\programdata\\anaconda3\\lib\\site-packages (from tensorflow-intel==2.12.0->tensorflow) (0.31.0)\n",
      "Requirement already satisfied: gast<=0.4.0,>=0.2.1 in c:\\programdata\\anaconda3\\lib\\site-packages (from tensorflow-intel==2.12.0->tensorflow) (0.4.0)\n",
      "Requirement already satisfied: jax>=0.3.15 in c:\\programdata\\anaconda3\\lib\\site-packages (from tensorflow-intel==2.12.0->tensorflow) (0.4.11)\n",
      "Requirement already satisfied: opencv-contrib-python in c:\\programdata\\anaconda3\\lib\\site-packages (from mediapipe) (4.7.0.72)\n",
      "Requirement already satisfied: sounddevice>=0.4.4 in c:\\programdata\\anaconda3\\lib\\site-packages (from mediapipe) (0.4.6)\n",
      "Requirement already satisfied: attrs>=19.1.0 in c:\\programdata\\anaconda3\\lib\\site-packages (from mediapipe) (22.1.0)\n",
      "Requirement already satisfied: pyparsing>=2.3.1 in c:\\programdata\\anaconda3\\lib\\site-packages (from matplotlib) (3.0.9)\n",
      "Requirement already satisfied: fonttools>=4.22.0 in c:\\programdata\\anaconda3\\lib\\site-packages (from matplotlib) (4.39.4)\n",
      "Requirement already satisfied: cycler>=0.10 in c:\\programdata\\anaconda3\\lib\\site-packages (from matplotlib) (0.11.0)\n",
      "Requirement already satisfied: contourpy>=1.0.1 in c:\\programdata\\anaconda3\\lib\\site-packages (from matplotlib) (1.0.7)\n",
      "Requirement already satisfied: kiwisolver>=1.0.1 in c:\\programdata\\anaconda3\\lib\\site-packages (from matplotlib) (1.4.4)\n",
      "Requirement already satisfied: python-dateutil>=2.7 in c:\\programdata\\anaconda3\\lib\\site-packages (from matplotlib) (2.8.2)\n",
      "Requirement already satisfied: pillow>=6.2.0 in c:\\programdata\\anaconda3\\lib\\site-packages (from matplotlib) (9.4.0)\n",
      "Requirement already satisfied: CFFI>=1.0 in c:\\programdata\\anaconda3\\lib\\site-packages (from sounddevice>=0.4.4->mediapipe) (1.15.1)\n",
      "Requirement already satisfied: wheel<1.0,>=0.23.0 in c:\\programdata\\anaconda3\\lib\\site-packages (from astunparse>=1.6.0->tensorflow-intel==2.12.0->tensorflow) (0.38.4)\n",
      "Requirement already satisfied: pycparser in c:\\programdata\\anaconda3\\lib\\site-packages (from CFFI>=1.0->sounddevice>=0.4.4->mediapipe) (2.21)\n",
      "Requirement already satisfied: scipy>=1.7 in c:\\programdata\\anaconda3\\lib\\site-packages (from jax>=0.3.15->tensorflow-intel==2.12.0->tensorflow) (1.10.1)\n",
      "Requirement already satisfied: ml-dtypes>=0.1.0 in c:\\programdata\\anaconda3\\lib\\site-packages (from jax>=0.3.15->tensorflow-intel==2.12.0->tensorflow) (0.2.0)\n",
      "Requirement already satisfied: requests<3,>=2.21.0 in c:\\programdata\\anaconda3\\lib\\site-packages (from tensorboard<2.13,>=2.12->tensorflow-intel==2.12.0->tensorflow) (2.29.0)\n",
      "Requirement already satisfied: markdown>=2.6.8 in c:\\programdata\\anaconda3\\lib\\site-packages (from tensorboard<2.13,>=2.12->tensorflow-intel==2.12.0->tensorflow) (3.4.3)\n",
      "Requirement already satisfied: google-auth<3,>=1.6.3 in c:\\programdata\\anaconda3\\lib\\site-packages (from tensorboard<2.13,>=2.12->tensorflow-intel==2.12.0->tensorflow) (2.19.1)\n",
      "Requirement already satisfied: werkzeug>=1.0.1 in c:\\programdata\\anaconda3\\lib\\site-packages (from tensorboard<2.13,>=2.12->tensorflow-intel==2.12.0->tensorflow) (2.3.5)\n",
      "Requirement already satisfied: tensorboard-data-server<0.8.0,>=0.7.0 in c:\\programdata\\anaconda3\\lib\\site-packages (from tensorboard<2.13,>=2.12->tensorflow-intel==2.12.0->tensorflow) (0.7.0)\n",
      "Requirement already satisfied: google-auth-oauthlib<1.1,>=0.5 in c:\\programdata\\anaconda3\\lib\\site-packages (from tensorboard<2.13,>=2.12->tensorflow-intel==2.12.0->tensorflow) (1.0.0)\n",
      "Requirement already satisfied: pyasn1-modules>=0.2.1 in c:\\programdata\\anaconda3\\lib\\site-packages (from google-auth<3,>=1.6.3->tensorboard<2.13,>=2.12->tensorflow-intel==2.12.0->tensorflow) (0.3.0)\n",
      "Requirement already satisfied: rsa<5,>=3.1.4 in c:\\programdata\\anaconda3\\lib\\site-packages (from google-auth<3,>=1.6.3->tensorboard<2.13,>=2.12->tensorflow-intel==2.12.0->tensorflow) (4.9)\n",
      "Requirement already satisfied: urllib3<2.0 in c:\\programdata\\anaconda3\\lib\\site-packages (from google-auth<3,>=1.6.3->tensorboard<2.13,>=2.12->tensorflow-intel==2.12.0->tensorflow) (1.26.16)\n",
      "Requirement already satisfied: cachetools<6.0,>=2.0.0 in c:\\programdata\\anaconda3\\lib\\site-packages (from google-auth<3,>=1.6.3->tensorboard<2.13,>=2.12->tensorflow-intel==2.12.0->tensorflow) (5.3.1)\n",
      "Requirement already satisfied: requests-oauthlib>=0.7.0 in c:\\programdata\\anaconda3\\lib\\site-packages (from google-auth-oauthlib<1.1,>=0.5->tensorboard<2.13,>=2.12->tensorflow-intel==2.12.0->tensorflow) (1.3.1)\n",
      "Requirement already satisfied: idna<4,>=2.5 in c:\\programdata\\anaconda3\\lib\\site-packages (from requests<3,>=2.21.0->tensorboard<2.13,>=2.12->tensorflow-intel==2.12.0->tensorflow) (3.4)\n",
      "Requirement already satisfied: certifi>=2017.4.17 in c:\\programdata\\anaconda3\\lib\\site-packages (from requests<3,>=2.21.0->tensorboard<2.13,>=2.12->tensorflow-intel==2.12.0->tensorflow) (2023.5.7)\n",
      "Requirement already satisfied: charset-normalizer<4,>=2 in c:\\programdata\\anaconda3\\lib\\site-packages (from requests<3,>=2.21.0->tensorboard<2.13,>=2.12->tensorflow-intel==2.12.0->tensorflow) (2.0.4)\n",
      "Requirement already satisfied: MarkupSafe>=2.1.1 in c:\\programdata\\anaconda3\\lib\\site-packages (from werkzeug>=1.0.1->tensorboard<2.13,>=2.12->tensorflow-intel==2.12.0->tensorflow) (2.1.1)\n",
      "Requirement already satisfied: pyasn1<0.6.0,>=0.4.6 in c:\\programdata\\anaconda3\\lib\\site-packages (from pyasn1-modules>=0.2.1->google-auth<3,>=1.6.3->tensorboard<2.13,>=2.12->tensorflow-intel==2.12.0->tensorflow) (0.5.0)\n",
      "Requirement already satisfied: oauthlib>=3.0.0 in c:\\programdata\\anaconda3\\lib\\site-packages (from requests-oauthlib>=0.7.0->google-auth-oauthlib<1.1,>=0.5->tensorboard<2.13,>=2.12->tensorflow-intel==2.12.0->tensorflow) (3.2.2)\n"
     ]
    }
   ],
   "source": [
    "!pip install tensorflow opencv-python mediapipe sklearn matplotlib"
   ]
  },
  {
   "cell_type": "code",
   "execution_count": 2,
   "metadata": {},
   "outputs": [],
   "source": [
    "import cv2\n",
    "import numpy as np\n",
    "import os\n",
    "from matplotlib import pyplot as plt\n",
    "import time\n",
    "import mediapipe as mp"
   ]
  },
  {
   "cell_type": "markdown",
   "metadata": {},
   "source": [
    "# 2. Keypoints using MP Holistic"
   ]
  },
  {
   "cell_type": "code",
   "execution_count": 11,
   "metadata": {},
   "outputs": [],
   "source": [
    "mp_holistic = mp.solutions.holistic # Holistic model\n",
    "mp_drawing = mp.solutions.drawing_utils # Drawing utilities"
   ]
  },
  {
   "cell_type": "code",
   "execution_count": 12,
   "metadata": {},
   "outputs": [],
   "source": [
    "def mediapipe_detection(image, model):\n",
    "    image = cv2.cvtColor(image, cv2.COLOR_BGR2RGB) # COLOR CONVERSION BGR 2 RGB\n",
    "    image.flags.writeable = False                  # Image is no longer writeable\n",
    "    results = model.process(image)                 # Make prediction\n",
    "    image.flags.writeable = True                   # Image is now writeable \n",
    "    image = cv2.cvtColor(image, cv2.COLOR_RGB2BGR) # COLOR COVERSION RGB 2 BGR\n",
    "    return image, results"
   ]
  },
  {
   "cell_type": "code",
   "execution_count": 13,
   "metadata": {},
   "outputs": [],
   "source": [
    "def draw_landmarks(image, results):\n",
    "    #mp_drawing.draw_landmarks(image, results.face_landmarks, mp_holistic.FACEMESH_TESSELATION) # Draw face connections\n",
    "    #mp_drawing.draw_landmarks(image, results.pose_landmarks, mp_holistic.POSE_CONNECTIONS) # Draw pose connections\n",
    "    mp_drawing.draw_landmarks(image, results.left_hand_landmarks, mp_holistic.HAND_CONNECTIONS) # Draw left hand connections\n",
    "    mp_drawing.draw_landmarks(image, results.right_hand_landmarks, mp_holistic.HAND_CONNECTIONS) # Draw right hand connections"
   ]
  },
  {
   "cell_type": "code",
   "execution_count": 14,
   "metadata": {},
   "outputs": [],
   "source": [
    "def draw_styled_landmarks(image, results):\n",
    "    # Draw face connections\n",
    "    #mp_drawing.draw_landmarks(image, results.face_landmarks, mp_holistic.FACEMESH_TESSELATION, \n",
    "    #                         mp_drawing.DrawingSpec(color=(80,110,10), thickness=1, circle_radius=1), \n",
    "    #                         mp_drawing.DrawingSpec(color=(80,256,121), thickness=1, circle_radius=1)\n",
    "    #                         ) \n",
    "    # Draw pose connections\n",
    "#     mp_drawing.draw_landmarks(image, results.pose_landmarks, mp_holistic.POSE_CONNECTIONS,\n",
    "#                              mp_drawing.DrawingSpec(color=(80,22,10), thickness=2, circle_radius=4), \n",
    "#                              mp_drawing.DrawingSpec(color=(80,44,121), thickness=2, circle_radius=2)\n",
    "#                              ) \n",
    "    # Draw left hand connections\n",
    "    mp_drawing.draw_landmarks(image, results.left_hand_landmarks, mp_holistic.HAND_CONNECTIONS, \n",
    "                             mp_drawing.DrawingSpec(color=(121,22,76), thickness=2, circle_radius=4), \n",
    "                             mp_drawing.DrawingSpec(color=(121,44,250), thickness=2, circle_radius=2)\n",
    "                             ) \n",
    "    # Draw right hand connections  \n",
    "    mp_drawing.draw_landmarks(image, results.right_hand_landmarks, mp_holistic.HAND_CONNECTIONS, \n",
    "                             mp_drawing.DrawingSpec(color=(245,117,66), thickness=2, circle_radius=4), \n",
    "                             mp_drawing.DrawingSpec(color=(245,66,230), thickness=2, circle_radius=2)\n",
    "                             ) "
   ]
  },
  {
   "cell_type": "code",
   "execution_count": 25,
   "metadata": {},
   "outputs": [
    {
     "ename": "error",
     "evalue": "OpenCV(4.7.0) D:\\a\\opencv-python\\opencv-python\\opencv\\modules\\imgproc\\src\\color.cpp:182: error: (-215:Assertion failed) !_src.empty() in function 'cv::cvtColor'\n",
     "output_type": "error",
     "traceback": [
      "\u001b[1;31m---------------------------------------------------------------------------\u001b[0m",
      "\u001b[1;31merror\u001b[0m                                     Traceback (most recent call last)",
      "Cell \u001b[1;32mIn[25], line 11\u001b[0m\n\u001b[0;32m      9\u001b[0m cap\u001b[38;5;241m.\u001b[39mset(\u001b[38;5;241m4\u001b[39m, \u001b[38;5;241m720\u001b[39m)\n\u001b[0;32m     10\u001b[0m \u001b[38;5;66;03m# Make detections\u001b[39;00m\n\u001b[1;32m---> 11\u001b[0m image, results \u001b[38;5;241m=\u001b[39m \u001b[43mmediapipe_detection\u001b[49m\u001b[43m(\u001b[49m\u001b[43mframe\u001b[49m\u001b[43m,\u001b[49m\u001b[43m \u001b[49m\u001b[43mholistic\u001b[49m\u001b[43m)\u001b[49m\n\u001b[0;32m     12\u001b[0m \u001b[38;5;28mprint\u001b[39m(results)\n\u001b[0;32m     14\u001b[0m \u001b[38;5;66;03m# Draw landmarks\u001b[39;00m\n",
      "Cell \u001b[1;32mIn[12], line 2\u001b[0m, in \u001b[0;36mmediapipe_detection\u001b[1;34m(image, model)\u001b[0m\n\u001b[0;32m      1\u001b[0m \u001b[38;5;28;01mdef\u001b[39;00m \u001b[38;5;21mmediapipe_detection\u001b[39m(image, model):\n\u001b[1;32m----> 2\u001b[0m     image \u001b[38;5;241m=\u001b[39m \u001b[43mcv2\u001b[49m\u001b[38;5;241;43m.\u001b[39;49m\u001b[43mcvtColor\u001b[49m\u001b[43m(\u001b[49m\u001b[43mimage\u001b[49m\u001b[43m,\u001b[49m\u001b[43m \u001b[49m\u001b[43mcv2\u001b[49m\u001b[38;5;241;43m.\u001b[39;49m\u001b[43mCOLOR_BGR2RGB\u001b[49m\u001b[43m)\u001b[49m \u001b[38;5;66;03m# COLOR CONVERSION BGR 2 RGB\u001b[39;00m\n\u001b[0;32m      3\u001b[0m     image\u001b[38;5;241m.\u001b[39mflags\u001b[38;5;241m.\u001b[39mwriteable \u001b[38;5;241m=\u001b[39m \u001b[38;5;28;01mFalse\u001b[39;00m                  \u001b[38;5;66;03m# Image is no longer writeable\u001b[39;00m\n\u001b[0;32m      4\u001b[0m     results \u001b[38;5;241m=\u001b[39m model\u001b[38;5;241m.\u001b[39mprocess(image)                 \u001b[38;5;66;03m# Make prediction\u001b[39;00m\n",
      "\u001b[1;31merror\u001b[0m: OpenCV(4.7.0) D:\\a\\opencv-python\\opencv-python\\opencv\\modules\\imgproc\\src\\color.cpp:182: error: (-215:Assertion failed) !_src.empty() in function 'cv::cvtColor'\n"
     ]
    }
   ],
   "source": [
    "cap = cv2.VideoCapture(1)\n",
    "# Set mediapipe model \n",
    "with mp_holistic.Holistic(min_detection_confidence=0.5, min_tracking_confidence=0.5) as holistic:\n",
    "    while cap.isOpened():\n",
    "\n",
    "        # Read feed\n",
    "        ret, frame = cap.read()\n",
    "        cap.set(3, 1280)\n",
    "        cap.set(4, 720)\n",
    "        # Make detections\n",
    "        image, results = mediapipe_detection(frame, holistic)\n",
    "        print(results)\n",
    "        \n",
    "        # Draw landmarks\n",
    "        draw_styled_landmarks(image, results)\n",
    "\n",
    "        # Show to screen\n",
    "        cv2.imshow('OpenCV Feed', image)\n",
    "\n",
    "        # Break gracefully\n",
    "        if cv2.waitKey(10) & 0xFF == ord('q'):\n",
    "            break\n",
    "    cap.release()\n",
    "    cv2.destroyAllWindows()"
   ]
  },
  {
   "cell_type": "code",
   "execution_count": 16,
   "metadata": {},
   "outputs": [],
   "source": [
    "cap.release()\n",
    "cv2.destroyAllWindows()"
   ]
  },
  {
   "cell_type": "code",
   "execution_count": 23,
   "metadata": {},
   "outputs": [],
   "source": [
    "draw_landmarks(frame, results)"
   ]
  },
  {
   "cell_type": "code",
   "execution_count": 24,
   "metadata": {},
   "outputs": [
    {
     "ename": "error",
     "evalue": "OpenCV(4.7.0) D:\\a\\opencv-python\\opencv-python\\opencv\\modules\\imgproc\\src\\color.cpp:182: error: (-215:Assertion failed) !_src.empty() in function 'cv::cvtColor'\n",
     "output_type": "error",
     "traceback": [
      "\u001b[1;31m---------------------------------------------------------------------------\u001b[0m",
      "\u001b[1;31merror\u001b[0m                                     Traceback (most recent call last)",
      "Cell \u001b[1;32mIn[24], line 1\u001b[0m\n\u001b[1;32m----> 1\u001b[0m plt\u001b[38;5;241m.\u001b[39mimshow(\u001b[43mcv2\u001b[49m\u001b[38;5;241;43m.\u001b[39;49m\u001b[43mcvtColor\u001b[49m\u001b[43m(\u001b[49m\u001b[43mframe\u001b[49m\u001b[43m,\u001b[49m\u001b[43m \u001b[49m\u001b[43mcv2\u001b[49m\u001b[38;5;241;43m.\u001b[39;49m\u001b[43mCOLOR_BGR2RGB\u001b[49m\u001b[43m)\u001b[49m)\n",
      "\u001b[1;31merror\u001b[0m: OpenCV(4.7.0) D:\\a\\opencv-python\\opencv-python\\opencv\\modules\\imgproc\\src\\color.cpp:182: error: (-215:Assertion failed) !_src.empty() in function 'cv::cvtColor'\n"
     ]
    }
   ],
   "source": [
    "plt.imshow(cv2.cvtColor(frame, cv2.COLOR_BGR2RGB))"
   ]
  },
  {
   "cell_type": "markdown",
   "metadata": {},
   "source": [
    "# 3. Extract Keypoint Values"
   ]
  },
  {
   "cell_type": "code",
   "execution_count": 11,
   "metadata": {},
   "outputs": [
    {
     "data": {
      "text/plain": [
       "21"
      ]
     },
     "execution_count": 11,
     "metadata": {},
     "output_type": "execute_result"
    }
   ],
   "source": [
    "len(results.left_hand_landmarks.landmark)"
   ]
  },
  {
   "cell_type": "code",
   "execution_count": 12,
   "metadata": {},
   "outputs": [],
   "source": [
    "pose = []\n",
    "for res in results.pose_landmarks.landmark:\n",
    "    test = np.array([res.x, res.y, res.z, res.visibility])\n",
    "    pose.append(test)"
   ]
  },
  {
   "cell_type": "code",
   "execution_count": 13,
   "metadata": {},
   "outputs": [],
   "source": [
    "#+pose = np.array([[res.x, res.y, res.z, res.visibility] for res in results.pose_landmarks.landmark]).flatten() if results.pose_landmarks else np.zeros(132)\n",
    "#face = np.array([[res.x, res.y, res.z] for res in results.face_landmarks.landmark]).flatten() if results.face_landmarks else np.zeros(1404)\n",
    "lh = np.array([[res.x, res.y, res.z] for res in results.left_hand_landmarks.landmark]).flatten() if results.left_hand_landmarks else np.zeros(21*3)\n",
    "rh = np.array([[res.x, res.y, res.z] for res in results.right_hand_landmarks.landmark]).flatten() if results.right_hand_landmarks else np.zeros(21*3)"
   ]
  },
  {
   "cell_type": "code",
   "execution_count": 16,
   "metadata": {},
   "outputs": [
    {
     "ename": "IndentationError",
     "evalue": "unexpected indent (1373052555.py, line 2)",
     "output_type": "error",
     "traceback": [
      "\u001b[1;36m  Input \u001b[1;32mIn [16]\u001b[1;36m\u001b[0m\n\u001b[1;33m    if results.face_landmarks\u001b[0m\n\u001b[1;37m    ^\u001b[0m\n\u001b[1;31mIndentationError\u001b[0m\u001b[1;31m:\u001b[0m unexpected indent\n"
     ]
    }
   ],
   "source": [
    "face = np.array([[res.x, res.y, res.z] for res in results.face_landmarks.landmark]).flatten() \n",
    "    if results.face_landmarks \n",
    "    else np.zeros(1404)\n"
   ]
  },
  {
   "cell_type": "code",
   "execution_count": 14,
   "metadata": {},
   "outputs": [],
   "source": [
    "def extract_keypoints(results):\n",
    "    #pose = np.array([[res.x, res.y, res.z, res.visibility] for res in results.pose_landmarks.landmark]).flatten() if results.pose_landmarks else np.zeros(33*4)\n",
    "    #face = np.array([[res.x, res.y, res.z] for res in results.face_landmarks.landmark]).flatten() if results.face_landmarks else np.zeros(468*3)\n",
    "    lh = np.array([[res.x, res.y, res.z] for res in results.left_hand_landmarks.landmark]).flatten() if results.left_hand_landmarks else np.zeros(21*3)\n",
    "    rh = np.array([[res.x, res.y, res.z] for res in results.right_hand_landmarks.landmark]).flatten() if results.right_hand_landmarks else np.zeros(21*3)\n",
    "    #return np.concatenate([pose, face, lh, rh])\n",
    "    return np.concatenate([lh, rh])"
   ]
  },
  {
   "cell_type": "code",
   "execution_count": 15,
   "metadata": {},
   "outputs": [],
   "source": [
    "result_test = extract_keypoints(results)"
   ]
  },
  {
   "cell_type": "code",
   "execution_count": 16,
   "metadata": {},
   "outputs": [
    {
     "data": {
      "text/plain": [
       "array([ 8.12938154e-01,  6.79658055e-01, -2.88264488e-07,  7.60304928e-01,\n",
       "        6.93328738e-01,  1.10353427e-02,  7.22395897e-01,  6.73487723e-01,\n",
       "        2.27974709e-02,  6.94189847e-01,  6.46570146e-01,  2.76505258e-02,\n",
       "        6.69048011e-01,  6.26690984e-01,  3.22231464e-02,  7.69013226e-01,\n",
       "        5.68666160e-01,  5.80531769e-02,  7.38269031e-01,  5.35479665e-01,\n",
       "        6.91843629e-02,  7.12127984e-01,  5.20217717e-01,  6.43764660e-02,\n",
       "        6.89921439e-01,  5.09067893e-01,  5.78947142e-02,  7.77448297e-01,\n",
       "        5.40888548e-01,  4.89099063e-02,  7.40226448e-01,  4.97865379e-01,\n",
       "        6.14155456e-02,  7.09597945e-01,  4.79612887e-01,  5.03598191e-02,\n",
       "        6.86724007e-01,  4.76124108e-01,  3.87216471e-02,  7.89782405e-01,\n",
       "        5.16331613e-01,  3.69512998e-02,  7.57536232e-01,  4.66155648e-01,\n",
       "        4.70096283e-02,  7.26646006e-01,  4.50646430e-01,  3.64784598e-02,\n",
       "        7.02120006e-01,  4.51993644e-01,  2.62910649e-02,  8.05782378e-01,\n",
       "        4.94920611e-01,  2.42400318e-02,  7.81915009e-01,  4.46217746e-01,\n",
       "        3.21090110e-02,  7.55353510e-01,  4.30643260e-01,  3.11799664e-02,\n",
       "        7.30477333e-01,  4.34539318e-01,  2.86791325e-02,  0.00000000e+00,\n",
       "        0.00000000e+00,  0.00000000e+00,  0.00000000e+00,  0.00000000e+00,\n",
       "        0.00000000e+00,  0.00000000e+00,  0.00000000e+00,  0.00000000e+00,\n",
       "        0.00000000e+00,  0.00000000e+00,  0.00000000e+00,  0.00000000e+00,\n",
       "        0.00000000e+00,  0.00000000e+00,  0.00000000e+00,  0.00000000e+00,\n",
       "        0.00000000e+00,  0.00000000e+00,  0.00000000e+00,  0.00000000e+00,\n",
       "        0.00000000e+00,  0.00000000e+00,  0.00000000e+00,  0.00000000e+00,\n",
       "        0.00000000e+00,  0.00000000e+00,  0.00000000e+00,  0.00000000e+00,\n",
       "        0.00000000e+00,  0.00000000e+00,  0.00000000e+00,  0.00000000e+00,\n",
       "        0.00000000e+00,  0.00000000e+00,  0.00000000e+00,  0.00000000e+00,\n",
       "        0.00000000e+00,  0.00000000e+00,  0.00000000e+00,  0.00000000e+00,\n",
       "        0.00000000e+00,  0.00000000e+00,  0.00000000e+00,  0.00000000e+00,\n",
       "        0.00000000e+00,  0.00000000e+00,  0.00000000e+00,  0.00000000e+00,\n",
       "        0.00000000e+00,  0.00000000e+00,  0.00000000e+00,  0.00000000e+00,\n",
       "        0.00000000e+00,  0.00000000e+00,  0.00000000e+00,  0.00000000e+00,\n",
       "        0.00000000e+00,  0.00000000e+00,  0.00000000e+00,  0.00000000e+00,\n",
       "        0.00000000e+00,  0.00000000e+00])"
      ]
     },
     "execution_count": 16,
     "metadata": {},
     "output_type": "execute_result"
    }
   ],
   "source": [
    "result_test"
   ]
  },
  {
   "cell_type": "code",
   "execution_count": 17,
   "metadata": {},
   "outputs": [],
   "source": [
    "np.save('0', result_test)"
   ]
  },
  {
   "cell_type": "code",
   "execution_count": 18,
   "metadata": {},
   "outputs": [
    {
     "data": {
      "text/plain": [
       "array([ 8.12938154e-01,  6.79658055e-01, -2.88264488e-07,  7.60304928e-01,\n",
       "        6.93328738e-01,  1.10353427e-02,  7.22395897e-01,  6.73487723e-01,\n",
       "        2.27974709e-02,  6.94189847e-01,  6.46570146e-01,  2.76505258e-02,\n",
       "        6.69048011e-01,  6.26690984e-01,  3.22231464e-02,  7.69013226e-01,\n",
       "        5.68666160e-01,  5.80531769e-02,  7.38269031e-01,  5.35479665e-01,\n",
       "        6.91843629e-02,  7.12127984e-01,  5.20217717e-01,  6.43764660e-02,\n",
       "        6.89921439e-01,  5.09067893e-01,  5.78947142e-02,  7.77448297e-01,\n",
       "        5.40888548e-01,  4.89099063e-02,  7.40226448e-01,  4.97865379e-01,\n",
       "        6.14155456e-02,  7.09597945e-01,  4.79612887e-01,  5.03598191e-02,\n",
       "        6.86724007e-01,  4.76124108e-01,  3.87216471e-02,  7.89782405e-01,\n",
       "        5.16331613e-01,  3.69512998e-02,  7.57536232e-01,  4.66155648e-01,\n",
       "        4.70096283e-02,  7.26646006e-01,  4.50646430e-01,  3.64784598e-02,\n",
       "        7.02120006e-01,  4.51993644e-01,  2.62910649e-02,  8.05782378e-01,\n",
       "        4.94920611e-01,  2.42400318e-02,  7.81915009e-01,  4.46217746e-01,\n",
       "        3.21090110e-02,  7.55353510e-01,  4.30643260e-01,  3.11799664e-02,\n",
       "        7.30477333e-01,  4.34539318e-01,  2.86791325e-02,  0.00000000e+00,\n",
       "        0.00000000e+00,  0.00000000e+00,  0.00000000e+00,  0.00000000e+00,\n",
       "        0.00000000e+00,  0.00000000e+00,  0.00000000e+00,  0.00000000e+00,\n",
       "        0.00000000e+00,  0.00000000e+00,  0.00000000e+00,  0.00000000e+00,\n",
       "        0.00000000e+00,  0.00000000e+00,  0.00000000e+00,  0.00000000e+00,\n",
       "        0.00000000e+00,  0.00000000e+00,  0.00000000e+00,  0.00000000e+00,\n",
       "        0.00000000e+00,  0.00000000e+00,  0.00000000e+00,  0.00000000e+00,\n",
       "        0.00000000e+00,  0.00000000e+00,  0.00000000e+00,  0.00000000e+00,\n",
       "        0.00000000e+00,  0.00000000e+00,  0.00000000e+00,  0.00000000e+00,\n",
       "        0.00000000e+00,  0.00000000e+00,  0.00000000e+00,  0.00000000e+00,\n",
       "        0.00000000e+00,  0.00000000e+00,  0.00000000e+00,  0.00000000e+00,\n",
       "        0.00000000e+00,  0.00000000e+00,  0.00000000e+00,  0.00000000e+00,\n",
       "        0.00000000e+00,  0.00000000e+00,  0.00000000e+00,  0.00000000e+00,\n",
       "        0.00000000e+00,  0.00000000e+00,  0.00000000e+00,  0.00000000e+00,\n",
       "        0.00000000e+00,  0.00000000e+00,  0.00000000e+00,  0.00000000e+00,\n",
       "        0.00000000e+00,  0.00000000e+00,  0.00000000e+00,  0.00000000e+00,\n",
       "        0.00000000e+00,  0.00000000e+00])"
      ]
     },
     "execution_count": 18,
     "metadata": {},
     "output_type": "execute_result"
    }
   ],
   "source": [
    "np.load('0.npy')"
   ]
  },
  {
   "cell_type": "markdown",
   "metadata": {},
   "source": [
    "# 4. Setup Folders for Collection"
   ]
  },
  {
   "cell_type": "code",
   "execution_count": 157,
   "metadata": {},
   "outputs": [],
   "source": [
    "# Path for exported data, numpy arrays\n",
    "DATA_PATH = os.path.join('MP_Data') \n",
    "\n",
    "# Actions that we try to detect\n",
    "actions = np.array(['lock_person', 'unlock_person', 'follow', 'stop', 'go_to_base', 'turn_left', 'turn_right', 'move_forward', 'move_backword'])\n",
    "\n",
    "\n",
    "# Thirty videos worth of data\n",
    "no_sequences = 30\n",
    "\n",
    "# Videos are going to be 30 frames in length\n",
    "sequence_length = 60\n",
    "\n",
    "# Folder start\n",
    "start_folder = 0"
   ]
  },
  {
   "cell_type": "code",
   "execution_count": 159,
   "metadata": {},
   "outputs": [],
   "source": [
    "for action in actions: \n",
    "    for sequence in range(1,no_sequences+1):\n",
    "        try: \n",
    "            os.makedirs(os.path.join(DATA_PATH, action, str(sequence)))\n",
    "        except:\n",
    "            pass"
   ]
  },
  {
   "cell_type": "code",
   "execution_count": 158,
   "metadata": {},
   "outputs": [
    {
     "ename": "FileNotFoundError",
     "evalue": "[WinError 3] The system cannot find the path specified: 'MP_Data\\\\lock_person'",
     "output_type": "error",
     "traceback": [
      "\u001b[1;31m---------------------------------------------------------------------------\u001b[0m",
      "\u001b[1;31mFileNotFoundError\u001b[0m                         Traceback (most recent call last)",
      "Input \u001b[1;32mIn [158]\u001b[0m, in \u001b[0;36m<cell line: 1>\u001b[1;34m()\u001b[0m\n\u001b[0;32m      1\u001b[0m \u001b[38;5;28;01mfor\u001b[39;00m action \u001b[38;5;129;01min\u001b[39;00m actions: \n\u001b[1;32m----> 2\u001b[0m     dirmax \u001b[38;5;241m=\u001b[39m np\u001b[38;5;241m.\u001b[39mmax(np\u001b[38;5;241m.\u001b[39marray(\u001b[43mos\u001b[49m\u001b[38;5;241;43m.\u001b[39;49m\u001b[43mlistdir\u001b[49m\u001b[43m(\u001b[49m\u001b[43mos\u001b[49m\u001b[38;5;241;43m.\u001b[39;49m\u001b[43mpath\u001b[49m\u001b[38;5;241;43m.\u001b[39;49m\u001b[43mjoin\u001b[49m\u001b[43m(\u001b[49m\u001b[43mDATA_PATH\u001b[49m\u001b[43m,\u001b[49m\u001b[43m \u001b[49m\u001b[43maction\u001b[49m\u001b[43m)\u001b[49m\u001b[43m)\u001b[49m)\u001b[38;5;241m.\u001b[39mastype(\u001b[38;5;28mint\u001b[39m))\n\u001b[0;32m      3\u001b[0m     \u001b[38;5;28;01mfor\u001b[39;00m sequence \u001b[38;5;129;01min\u001b[39;00m \u001b[38;5;28mrange\u001b[39m(\u001b[38;5;241m1\u001b[39m,no_sequences\u001b[38;5;241m+\u001b[39m\u001b[38;5;241m1\u001b[39m):\n\u001b[0;32m      4\u001b[0m         \u001b[38;5;28;01mtry\u001b[39;00m: \n",
      "\u001b[1;31mFileNotFoundError\u001b[0m: [WinError 3] The system cannot find the path specified: 'MP_Data\\\\lock_person'"
     ]
    }
   ],
   "source": [
    "for action in actions: \n",
    "    dirmax = np.max(np.array(os.listdir(os.path.join(DATA_PATH, action))).astype(int))\n",
    "    for sequence in range(1,no_sequences+1):\n",
    "        try: \n",
    "            os.makedirs(os.path.join(DATA_PATH, action, str(dirmax+sequence)))\n",
    "        except:\n",
    "            pass"
   ]
  },
  {
   "cell_type": "markdown",
   "metadata": {},
   "source": [
    "# 5. Collect Keypoint Values for Training and Testing"
   ]
  },
  {
   "cell_type": "code",
   "execution_count": 44,
   "metadata": {},
   "outputs": [],
   "source": [
    "cap = cv2.VideoCapture(3)\n",
    "# Set mediapipe model \n",
    "with mp_holistic.Holistic(min_detection_confidence=0.5, min_tracking_confidence=0.5) as holistic:\n",
    "    \n",
    "    # NEW LOOP\n",
    "    # Loop through actions\n",
    "    for action in actions:\n",
    "        # Loop through sequences aka videos\n",
    "        for sequence in range(start_folder, start_folder+no_sequences):\n",
    "            # Loop through video length aka sequence length\n",
    "            for frame_num in range(sequence_length):\n",
    "\n",
    "                # Read feed\n",
    "                ret, frame = cap.read()\n",
    "\n",
    "                # Make detections\n",
    "                image, results = mediapipe_detection(frame, holistic)\n",
    "\n",
    "                # Draw landmarks\n",
    "                draw_styled_landmarks(image, results)\n",
    "                \n",
    "                # NEW Apply wait logic\n",
    "                if frame_num == 0: \n",
    "                    cv2.putText(image, 'STARTING COLLECTION', (120,200), \n",
    "                               cv2.FONT_HERSHEY_SIMPLEX, 1, (0,255, 0), 4, cv2.LINE_AA)\n",
    "                    cv2.putText(image, 'Collecting frames for {} Video Number {}'.format(action, sequence), (15,12), \n",
    "                               cv2.FONT_HERSHEY_SIMPLEX, 0.5, (0, 0, 255), 1, cv2.LINE_AA)\n",
    "                    # Show to screen\n",
    "                    cv2.imshow('OpenCV Feed', image)\n",
    "                    cv2.waitKey(2000) # defines the wait time between collection\n",
    "                else: \n",
    "                    cv2.putText(image, 'Collecting frames for {} Video Number {}'.format(action, sequence), (15,12), \n",
    "                               cv2.FONT_HERSHEY_SIMPLEX, 0.5, (0, 0, 255), 1, cv2.LINE_AA)\n",
    "                    # Show to screen\n",
    "                    cv2.imshow('OpenCV Feed', image)\n",
    "                \n",
    "                # NEW Export keypoints\n",
    "                keypoints = extract_keypoints(results)\n",
    "                npy_path = os.path.join(DATA_PATH, action, str(sequence), str(frame_num))\n",
    "                np.save(npy_path, keypoints)\n",
    "\n",
    "                # Break gracefully\n",
    "                if cv2.waitKey(10) & 0xFF == ord('q'):\n",
    "                    break\n",
    "                    \n",
    "    cap.release()\n",
    "    cv2.destroyAllWindows()"
   ]
  },
  {
   "cell_type": "code",
   "execution_count": 164,
   "metadata": {},
   "outputs": [],
   "source": [
    "cap.release()\n",
    "cv2.destroyAllWindows()"
   ]
  },
  {
   "cell_type": "markdown",
   "metadata": {},
   "source": [
    "# 6. Preprocess Data and Create Labels and Features"
   ]
  },
  {
   "cell_type": "code",
   "execution_count": 165,
   "metadata": {},
   "outputs": [],
   "source": [
    "from sklearn.model_selection import train_test_split\n",
    "from tensorflow.keras.utils import to_categorical"
   ]
  },
  {
   "cell_type": "code",
   "execution_count": 166,
   "metadata": {},
   "outputs": [],
   "source": [
    "label_map = {label:num for num, label in enumerate(actions)}"
   ]
  },
  {
   "cell_type": "code",
   "execution_count": 167,
   "metadata": {},
   "outputs": [
    {
     "data": {
      "text/plain": [
       "{'lock_person': 0,\n",
       " 'unlock_person': 1,\n",
       " 'follow': 2,\n",
       " 'stop': 3,\n",
       " 'go_to_base': 4,\n",
       " 'turn_left': 5,\n",
       " 'turn_right': 6,\n",
       " 'move_forward': 7,\n",
       " 'move_backword': 8}"
      ]
     },
     "execution_count": 167,
     "metadata": {},
     "output_type": "execute_result"
    }
   ],
   "source": [
    "label_map"
   ]
  },
  {
   "cell_type": "code",
   "execution_count": 168,
   "metadata": {},
   "outputs": [],
   "source": [
    "sequences, labels = [], []\n",
    "for action in actions:\n",
    "    for sequence in np.array(os.listdir(os.path.join(DATA_PATH, action))).astype(int):\n",
    "        window = []\n",
    "        for frame_num in range(sequence_length):\n",
    "            res = np.load(os.path.join(DATA_PATH, action, str(sequence), \"{}.npy\".format(frame_num)))\n",
    "            window.append(res)\n",
    "        sequences.append(window)\n",
    "        labels.append(label_map[action])"
   ]
  },
  {
   "cell_type": "code",
   "execution_count": 169,
   "metadata": {},
   "outputs": [
    {
     "data": {
      "text/plain": [
       "(270, 60, 258)"
      ]
     },
     "execution_count": 169,
     "metadata": {},
     "output_type": "execute_result"
    }
   ],
   "source": [
    "np.array(sequences).shape"
   ]
  },
  {
   "cell_type": "code",
   "execution_count": 170,
   "metadata": {},
   "outputs": [
    {
     "data": {
      "text/plain": [
       "(270,)"
      ]
     },
     "execution_count": 170,
     "metadata": {},
     "output_type": "execute_result"
    }
   ],
   "source": [
    "np.array(labels).shape"
   ]
  },
  {
   "cell_type": "code",
   "execution_count": 171,
   "metadata": {},
   "outputs": [],
   "source": [
    "X = np.array(sequences)"
   ]
  },
  {
   "cell_type": "code",
   "execution_count": 172,
   "metadata": {},
   "outputs": [
    {
     "data": {
      "text/plain": [
       "(270, 60, 258)"
      ]
     },
     "execution_count": 172,
     "metadata": {},
     "output_type": "execute_result"
    }
   ],
   "source": [
    "X.shape"
   ]
  },
  {
   "cell_type": "code",
   "execution_count": 173,
   "metadata": {},
   "outputs": [],
   "source": [
    "y = to_categorical(labels).astype(int)"
   ]
  },
  {
   "cell_type": "code",
   "execution_count": 174,
   "metadata": {},
   "outputs": [
    {
     "data": {
      "text/plain": [
       "array([[1, 0, 0, ..., 0, 0, 0],\n",
       "       [1, 0, 0, ..., 0, 0, 0],\n",
       "       [1, 0, 0, ..., 0, 0, 0],\n",
       "       ...,\n",
       "       [0, 0, 0, ..., 0, 0, 1],\n",
       "       [0, 0, 0, ..., 0, 0, 1],\n",
       "       [0, 0, 0, ..., 0, 0, 1]])"
      ]
     },
     "execution_count": 174,
     "metadata": {},
     "output_type": "execute_result"
    }
   ],
   "source": [
    "y"
   ]
  },
  {
   "cell_type": "code",
   "execution_count": 175,
   "metadata": {},
   "outputs": [],
   "source": [
    "X_train, X_test, y_train, y_test = train_test_split(X, y, test_size=0.05)"
   ]
  },
  {
   "cell_type": "code",
   "execution_count": 176,
   "metadata": {},
   "outputs": [
    {
     "data": {
      "text/plain": [
       "(14, 9)"
      ]
     },
     "execution_count": 176,
     "metadata": {},
     "output_type": "execute_result"
    }
   ],
   "source": [
    "y_test.shape"
   ]
  },
  {
   "cell_type": "markdown",
   "metadata": {},
   "source": [
    "# 7. Build and Train LSTM Neural Network"
   ]
  },
  {
   "cell_type": "code",
   "execution_count": 177,
   "metadata": {},
   "outputs": [],
   "source": [
    "from tensorflow.keras.models import Sequential\n",
    "from tensorflow.keras.layers import LSTM, Dense\n",
    "from tensorflow.keras.callbacks import TensorBoard"
   ]
  },
  {
   "cell_type": "code",
   "execution_count": 126,
   "metadata": {},
   "outputs": [],
   "source": [
    "log_dir = os.path.join('Logs')\n",
    "tb_callback = TensorBoard(log_dir=log_dir)"
   ]
  },
  {
   "cell_type": "code",
   "execution_count": 178,
   "metadata": {},
   "outputs": [],
   "source": [
    "model = Sequential()\n",
    "model.add(LSTM(128, return_sequences=True, activation='relu', input_shape=(60,258)))\n",
    "model.add(LSTM(256, return_sequences=True, activation='relu'))\n",
    "model.add(LSTM(128, return_sequences=False, activation='relu'))\n",
    "model.add(Dense(128, activation='relu'))\n",
    "model.add(Dense(64, activation='relu'))\n",
    "model.add(Dense(actions.shape[0], activation='softmax'))"
   ]
  },
  {
   "cell_type": "code",
   "execution_count": 179,
   "metadata": {},
   "outputs": [],
   "source": [
    "model.compile(optimizer='Adam', loss='categorical_crossentropy', metrics=['categorical_accuracy'])"
   ]
  },
  {
   "cell_type": "code",
   "execution_count": 180,
   "metadata": {
    "scrolled": true
   },
   "outputs": [
    {
     "name": "stdout",
     "output_type": "stream",
     "text": [
      "Epoch 1/2000\n",
      "8/8 [==============================] - 5s 231ms/step - loss: 2.2915 - categorical_accuracy: 0.1289\n",
      "Epoch 2/2000\n",
      "8/8 [==============================] - 2s 235ms/step - loss: 2.1940 - categorical_accuracy: 0.2344\n",
      "Epoch 3/2000\n",
      "8/8 [==============================] - 2s 242ms/step - loss: 2.1720 - categorical_accuracy: 0.1367\n",
      "Epoch 4/2000\n",
      "8/8 [==============================] - 2s 229ms/step - loss: 2.1272 - categorical_accuracy: 0.1758\n",
      "Epoch 5/2000\n",
      "8/8 [==============================] - 2s 228ms/step - loss: 670.2028 - categorical_accuracy: 0.1719\n",
      "Epoch 6/2000\n",
      "8/8 [==============================] - 2s 242ms/step - loss: 114898.7344 - categorical_accuracy: 0.0898\n",
      "Epoch 7/2000\n",
      "8/8 [==============================] - 2s 239ms/step - loss: 3895200.5000 - categorical_accuracy: 0.1328\n",
      "Epoch 8/2000\n",
      "8/8 [==============================] - 2s 230ms/step - loss: 7626493.0000 - categorical_accuracy: 0.1172\n",
      "Epoch 9/2000\n",
      "8/8 [==============================] - 2s 253ms/step - loss: 6059563.0000 - categorical_accuracy: 0.1250\n",
      "Epoch 10/2000\n",
      "8/8 [==============================] - 2s 255ms/step - loss: 3348089.2500 - categorical_accuracy: 0.1094\n",
      "Epoch 11/2000\n",
      "8/8 [==============================] - 2s 240ms/step - loss: 1364420.8750 - categorical_accuracy: 0.1094\n",
      "Epoch 12/2000\n",
      "8/8 [==============================] - 2s 253ms/step - loss: 440196.2188 - categorical_accuracy: 0.1484\n",
      "Epoch 13/2000\n",
      "8/8 [==============================] - 2s 248ms/step - loss: 40598.1133 - categorical_accuracy: 0.1016\n",
      "Epoch 14/2000\n",
      "8/8 [==============================] - 2s 240ms/step - loss: 15541.5947 - categorical_accuracy: 0.1484\n",
      "Epoch 15/2000\n",
      "8/8 [==============================] - 2s 248ms/step - loss: 71320.1484 - categorical_accuracy: 0.0938\n",
      "Epoch 16/2000\n",
      "8/8 [==============================] - 2s 248ms/step - loss: 138236.7969 - categorical_accuracy: 0.0938\n",
      "Epoch 17/2000\n",
      "8/8 [==============================] - 2s 241ms/step - loss: 169648.6094 - categorical_accuracy: 0.1172\n",
      "Epoch 18/2000\n",
      "8/8 [==============================] - 2s 252ms/step - loss: 301254.9375 - categorical_accuracy: 0.0820\n",
      "Epoch 19/2000\n",
      "8/8 [==============================] - 2s 244ms/step - loss: 273404.3438 - categorical_accuracy: 0.1055\n",
      "Epoch 20/2000\n",
      "8/8 [==============================] - 2s 236ms/step - loss: 128328.8594 - categorical_accuracy: 0.1523\n",
      "Epoch 21/2000\n",
      "8/8 [==============================] - 2s 253ms/step - loss: 103039.6250 - categorical_accuracy: 0.1094\n",
      "Epoch 22/2000\n",
      "8/8 [==============================] - 2s 241ms/step - loss: 80894.0234 - categorical_accuracy: 0.0938\n",
      "Epoch 23/2000\n",
      "8/8 [==============================] - 2s 246ms/step - loss: 192532.5625 - categorical_accuracy: 0.1094\n",
      "Epoch 24/2000\n",
      "8/8 [==============================] - 2s 240ms/step - loss: 298744.7188 - categorical_accuracy: 0.1133\n",
      "Epoch 25/2000\n",
      "8/8 [==============================] - 2s 253ms/step - loss: 223689.6250 - categorical_accuracy: 0.1094\n",
      "Epoch 26/2000\n",
      "8/8 [==============================] - 2s 235ms/step - loss: 187773.8125 - categorical_accuracy: 0.0898\n",
      "Epoch 27/2000\n",
      "8/8 [==============================] - 2s 252ms/step - loss: 111021.7812 - categorical_accuracy: 0.1133\n",
      "Epoch 28/2000\n",
      "8/8 [==============================] - 2s 242ms/step - loss: 162822.0156 - categorical_accuracy: 0.0898\n",
      "Epoch 29/2000\n",
      "8/8 [==============================] - 2s 241ms/step - loss: 417421.3438 - categorical_accuracy: 0.1172\n",
      "Epoch 30/2000\n",
      "8/8 [==============================] - 2s 261ms/step - loss: 582756.3125 - categorical_accuracy: 0.0898\n",
      "Epoch 31/2000\n",
      "8/8 [==============================] - 2s 249ms/step - loss: 1374701.0000 - categorical_accuracy: 0.1367\n",
      "Epoch 32/2000\n",
      "8/8 [==============================] - 2s 240ms/step - loss: 954931.4375 - categorical_accuracy: 0.0977\n",
      "Epoch 33/2000\n",
      "8/8 [==============================] - 2s 241ms/step - loss: 1321075.5000 - categorical_accuracy: 0.0859\n",
      "Epoch 34/2000\n",
      "8/8 [==============================] - 2s 249ms/step - loss: 908080.1875 - categorical_accuracy: 0.1055\n",
      "Epoch 35/2000\n",
      "8/8 [==============================] - 2s 242ms/step - loss: 463323.4062 - categorical_accuracy: 0.1406\n",
      "Epoch 36/2000\n",
      "8/8 [==============================] - 2s 243ms/step - loss: 339078.7188 - categorical_accuracy: 0.1250\n",
      "Epoch 37/2000\n",
      "8/8 [==============================] - 2s 243ms/step - loss: 210752.9688 - categorical_accuracy: 0.1133\n",
      "Epoch 38/2000\n",
      "8/8 [==============================] - 2s 239ms/step - loss: 214269.1250 - categorical_accuracy: 0.1016\n",
      "Epoch 39/2000\n",
      "8/8 [==============================] - 2s 240ms/step - loss: 135207.4062 - categorical_accuracy: 0.1250\n",
      "Epoch 40/2000\n",
      "8/8 [==============================] - 2s 249ms/step - loss: 116270.1094 - categorical_accuracy: 0.1211\n",
      "Epoch 41/2000\n",
      "8/8 [==============================] - 2s 238ms/step - loss: 65254.7500 - categorical_accuracy: 0.1406\n",
      "Epoch 42/2000\n",
      "8/8 [==============================] - 2s 242ms/step - loss: 79566.1094 - categorical_accuracy: 0.1328\n",
      "Epoch 43/2000\n",
      "8/8 [==============================] - 2s 249ms/step - loss: 70554.8750 - categorical_accuracy: 0.1055\n",
      "Epoch 44/2000\n",
      "8/8 [==============================] - 2s 238ms/step - loss: 95634.6172 - categorical_accuracy: 0.0977\n",
      "Epoch 45/2000\n",
      "8/8 [==============================] - 2s 242ms/step - loss: 96327.3906 - categorical_accuracy: 0.1133\n",
      "Epoch 46/2000\n",
      "8/8 [==============================] - 2s 244ms/step - loss: 62766.8516 - categorical_accuracy: 0.1016\n",
      "Epoch 47/2000\n",
      "8/8 [==============================] - 2s 241ms/step - loss: 71161.7109 - categorical_accuracy: 0.1211\n",
      "Epoch 48/2000\n",
      "8/8 [==============================] - 2s 238ms/step - loss: 54246.5625 - categorical_accuracy: 0.1602\n",
      "Epoch 49/2000\n",
      "8/8 [==============================] - 2s 250ms/step - loss: 54987.9844 - categorical_accuracy: 0.1289\n",
      "Epoch 50/2000\n",
      "8/8 [==============================] - 2s 238ms/step - loss: 58962.0078 - categorical_accuracy: 0.1055\n",
      "Epoch 51/2000\n",
      "8/8 [==============================] - 2s 241ms/step - loss: 66628.2266 - categorical_accuracy: 0.1016\n",
      "Epoch 52/2000\n",
      "8/8 [==============================] - 2s 250ms/step - loss: 47170.7188 - categorical_accuracy: 0.0664\n",
      "Epoch 53/2000\n",
      "8/8 [==============================] - 2s 244ms/step - loss: 46990.5938 - categorical_accuracy: 0.1133\n",
      "Epoch 54/2000\n",
      "8/8 [==============================] - 2s 240ms/step - loss: 36610.4805 - categorical_accuracy: 0.1016\n",
      "Epoch 55/2000\n",
      "8/8 [==============================] - 2s 246ms/step - loss: 44409.6094 - categorical_accuracy: 0.1289\n",
      "Epoch 56/2000\n",
      "8/8 [==============================] - 2s 246ms/step - loss: 48379.6133 - categorical_accuracy: 0.1133\n",
      "Epoch 57/2000\n",
      "8/8 [==============================] - 2s 234ms/step - loss: 42378.4219 - categorical_accuracy: 0.0977\n",
      "Epoch 58/2000\n",
      "8/8 [==============================] - 2s 251ms/step - loss: 26608.1406 - categorical_accuracy: 0.1094\n",
      "Epoch 59/2000\n",
      "8/8 [==============================] - 2s 240ms/step - loss: 27139.8633 - categorical_accuracy: 0.0898\n",
      "Epoch 60/2000\n",
      "8/8 [==============================] - 2s 245ms/step - loss: 28431.4844 - categorical_accuracy: 0.1211\n",
      "Epoch 61/2000\n",
      "8/8 [==============================] - 2s 256ms/step - loss: 23828.5820 - categorical_accuracy: 0.0938\n",
      "Epoch 62/2000\n",
      "8/8 [==============================] - 2s 242ms/step - loss: 34266.6055 - categorical_accuracy: 0.1133\n",
      "Epoch 63/2000\n",
      "8/8 [==============================] - 2s 240ms/step - loss: 25573.0156 - categorical_accuracy: 0.1328\n",
      "Epoch 64/2000\n",
      "8/8 [==============================] - 2s 249ms/step - loss: 35929.2070 - categorical_accuracy: 0.1133\n",
      "Epoch 65/2000\n",
      "8/8 [==============================] - 2s 244ms/step - loss: 40617.9102 - categorical_accuracy: 0.1055\n",
      "Epoch 66/2000\n",
      "8/8 [==============================] - 2s 239ms/step - loss: 36465.2539 - categorical_accuracy: 0.0742\n",
      "Epoch 67/2000\n",
      "8/8 [==============================] - 2s 252ms/step - loss: 40962.4688 - categorical_accuracy: 0.1016\n",
      "Epoch 68/2000\n",
      "8/8 [==============================] - 2s 242ms/step - loss: 27996.5000 - categorical_accuracy: 0.1094\n",
      "Epoch 69/2000\n",
      "8/8 [==============================] - 2s 241ms/step - loss: 42162.5195 - categorical_accuracy: 0.1016\n",
      "Epoch 70/2000\n",
      "8/8 [==============================] - 2s 245ms/step - loss: 52566.4531 - categorical_accuracy: 0.0938\n",
      "Epoch 71/2000\n",
      "8/8 [==============================] - 2s 251ms/step - loss: 61523.3750 - categorical_accuracy: 0.0859\n",
      "Epoch 72/2000\n",
      "8/8 [==============================] - 2s 247ms/step - loss: 36822.5742 - categorical_accuracy: 0.1094\n",
      "Epoch 73/2000\n",
      "8/8 [==============================] - 2s 256ms/step - loss: 36051.1641 - categorical_accuracy: 0.0977\n",
      "Epoch 74/2000\n",
      "8/8 [==============================] - 2s 239ms/step - loss: 25744.5352 - categorical_accuracy: 0.1602\n",
      "Epoch 75/2000\n",
      "8/8 [==============================] - 2s 245ms/step - loss: 32755.0898 - categorical_accuracy: 0.1562\n",
      "Epoch 76/2000\n",
      "8/8 [==============================] - 2s 258ms/step - loss: 25731.9609 - categorical_accuracy: 0.0977\n",
      "Epoch 77/2000\n",
      "8/8 [==============================] - 2s 238ms/step - loss: 26026.3945 - categorical_accuracy: 0.1250\n",
      "Epoch 78/2000\n",
      "8/8 [==============================] - 2s 242ms/step - loss: 33881.3945 - categorical_accuracy: 0.0898\n",
      "Epoch 79/2000\n",
      "8/8 [==============================] - 2s 251ms/step - loss: 39847.8516 - categorical_accuracy: 0.1133\n",
      "Epoch 80/2000\n",
      "8/8 [==============================] - 2s 250ms/step - loss: 47487.7422 - categorical_accuracy: 0.1523\n",
      "Epoch 81/2000\n",
      "8/8 [==============================] - 2s 239ms/step - loss: 53343.0977 - categorical_accuracy: 0.1133\n",
      "Epoch 82/2000\n",
      "8/8 [==============================] - 2s 253ms/step - loss: 46707.6523 - categorical_accuracy: 0.1055\n",
      "Epoch 83/2000\n",
      "8/8 [==============================] - 2s 239ms/step - loss: 36040.6172 - categorical_accuracy: 0.1016\n",
      "Epoch 84/2000\n",
      "8/8 [==============================] - 2s 242ms/step - loss: 35030.6719 - categorical_accuracy: 0.0977\n",
      "Epoch 85/2000\n",
      "8/8 [==============================] - 2s 259ms/step - loss: 31186.1602 - categorical_accuracy: 0.1133\n",
      "Epoch 86/2000\n",
      "8/8 [==============================] - 2s 246ms/step - loss: 24453.6426 - categorical_accuracy: 0.0938\n",
      "Epoch 87/2000\n",
      "8/8 [==============================] - 2s 241ms/step - loss: 33209.2188 - categorical_accuracy: 0.0586\n",
      "Epoch 88/2000\n",
      "8/8 [==============================] - 2s 244ms/step - loss: 24471.0137 - categorical_accuracy: 0.1250\n",
      "Epoch 89/2000\n",
      "8/8 [==============================] - 2s 251ms/step - loss: 13453.4033 - categorical_accuracy: 0.1133\n",
      "Epoch 90/2000\n",
      "8/8 [==============================] - 2s 233ms/step - loss: 15514.8184 - categorical_accuracy: 0.0977\n",
      "Epoch 91/2000\n",
      "8/8 [==============================] - 2s 259ms/step - loss: 13935.4531 - categorical_accuracy: 0.1055\n",
      "Epoch 92/2000\n",
      "8/8 [==============================] - 2s 247ms/step - loss: 19278.5059 - categorical_accuracy: 0.1211\n",
      "Epoch 93/2000\n",
      "8/8 [==============================] - 2s 239ms/step - loss: 14360.4844 - categorical_accuracy: 0.1016\n",
      "Epoch 94/2000\n",
      "8/8 [==============================] - 2s 246ms/step - loss: 17858.2188 - categorical_accuracy: 0.1016\n",
      "Epoch 95/2000\n",
      "8/8 [==============================] - 2s 246ms/step - loss: 23802.2988 - categorical_accuracy: 0.1133\n",
      "Epoch 96/2000\n",
      "8/8 [==============================] - 2s 243ms/step - loss: 16292.3506 - categorical_accuracy: 0.1016\n",
      "Epoch 97/2000\n",
      "8/8 [==============================] - 2s 248ms/step - loss: 16892.8672 - categorical_accuracy: 0.0977\n",
      "Epoch 98/2000\n",
      "8/8 [==============================] - 2s 246ms/step - loss: 17851.2852 - categorical_accuracy: 0.1250\n",
      "Epoch 99/2000\n",
      "8/8 [==============================] - 2s 242ms/step - loss: 20493.5039 - categorical_accuracy: 0.0977\n",
      "Epoch 100/2000\n",
      "8/8 [==============================] - 2s 239ms/step - loss: 20833.8594 - categorical_accuracy: 0.1055\n",
      "Epoch 101/2000\n",
      "8/8 [==============================] - 2s 252ms/step - loss: 17400.3887 - categorical_accuracy: 0.0820\n",
      "Epoch 102/2000\n",
      "8/8 [==============================] - 2s 239ms/step - loss: 10353.7510 - categorical_accuracy: 0.1055\n",
      "Epoch 103/2000\n",
      "8/8 [==============================] - 2s 252ms/step - loss: 12155.1768 - categorical_accuracy: 0.0898\n",
      "Epoch 104/2000\n",
      "8/8 [==============================] - 2s 255ms/step - loss: 9009.6660 - categorical_accuracy: 0.0938\n",
      "Epoch 105/2000\n",
      "8/8 [==============================] - 2s 235ms/step - loss: 5995.2466 - categorical_accuracy: 0.0820\n",
      "Epoch 106/2000\n",
      "8/8 [==============================] - 2s 250ms/step - loss: 12633.1885 - categorical_accuracy: 0.1094\n",
      "Epoch 107/2000\n",
      "8/8 [==============================] - 2s 254ms/step - loss: 10702.1631 - categorical_accuracy: 0.1367\n",
      "Epoch 108/2000\n",
      "8/8 [==============================] - 2s 235ms/step - loss: 16423.3027 - categorical_accuracy: 0.0742\n",
      "Epoch 109/2000\n",
      "8/8 [==============================] - 2s 241ms/step - loss: 14210.8008 - categorical_accuracy: 0.1211\n",
      "Epoch 110/2000\n",
      "8/8 [==============================] - 2s 255ms/step - loss: 12599.2842 - categorical_accuracy: 0.0977\n",
      "Epoch 111/2000\n",
      "8/8 [==============================] - 2s 251ms/step - loss: 11653.1377 - categorical_accuracy: 0.1211\n",
      "Epoch 112/2000\n",
      "8/8 [==============================] - 2s 246ms/step - loss: 18128.7656 - categorical_accuracy: 0.0820\n",
      "Epoch 113/2000\n",
      "8/8 [==============================] - 2s 256ms/step - loss: 11519.5459 - categorical_accuracy: 0.1055\n",
      "Epoch 114/2000\n",
      "8/8 [==============================] - 2s 236ms/step - loss: 13265.6279 - categorical_accuracy: 0.0977\n",
      "Epoch 115/2000\n",
      "8/8 [==============================] - 2s 248ms/step - loss: 12176.1553 - categorical_accuracy: 0.0898\n",
      "Epoch 116/2000\n",
      "8/8 [==============================] - 2s 242ms/step - loss: 18001.2930 - categorical_accuracy: 0.1328\n",
      "Epoch 117/2000\n",
      "8/8 [==============================] - 2s 243ms/step - loss: 14240.5635 - categorical_accuracy: 0.1172\n",
      "Epoch 118/2000\n",
      "8/8 [==============================] - 2s 239ms/step - loss: 12573.6406 - categorical_accuracy: 0.1055\n",
      "Epoch 119/2000\n",
      "8/8 [==============================] - 2s 252ms/step - loss: 12371.5488 - categorical_accuracy: 0.0977\n",
      "Epoch 120/2000\n",
      "8/8 [==============================] - 2s 241ms/step - loss: 11966.2881 - categorical_accuracy: 0.1172\n",
      "Epoch 121/2000\n",
      "8/8 [==============================] - 2s 250ms/step - loss: 10180.6484 - categorical_accuracy: 0.1055\n",
      "Epoch 122/2000\n",
      "8/8 [==============================] - 2s 265ms/step - loss: 12354.5938 - categorical_accuracy: 0.1172\n",
      "Epoch 123/2000\n",
      "8/8 [==============================] - 2s 251ms/step - loss: 11712.3408 - categorical_accuracy: 0.1211\n",
      "Epoch 124/2000\n",
      "8/8 [==============================] - 2s 254ms/step - loss: 12510.2529 - categorical_accuracy: 0.1211\n",
      "Epoch 125/2000\n",
      "8/8 [==============================] - 2s 252ms/step - loss: 11573.3711 - categorical_accuracy: 0.1055\n",
      "Epoch 126/2000\n",
      "8/8 [==============================] - 2s 257ms/step - loss: 7889.2661 - categorical_accuracy: 0.1211\n",
      "Epoch 127/2000\n",
      "8/8 [==============================] - 2s 248ms/step - loss: 11877.4746 - categorical_accuracy: 0.1250\n",
      "Epoch 128/2000\n",
      "8/8 [==============================] - 2s 269ms/step - loss: 13846.6309 - categorical_accuracy: 0.1016\n",
      "Epoch 129/2000\n",
      "8/8 [==============================] - 2s 257ms/step - loss: 13868.5811 - categorical_accuracy: 0.0977\n",
      "Epoch 130/2000\n",
      "8/8 [==============================] - 2s 252ms/step - loss: 8334.9258 - categorical_accuracy: 0.0977\n",
      "Epoch 131/2000\n",
      "8/8 [==============================] - 2s 263ms/step - loss: 6883.9990 - categorical_accuracy: 0.0938\n",
      "Epoch 132/2000\n",
      "8/8 [==============================] - 2s 239ms/step - loss: 6373.5820 - categorical_accuracy: 0.0781\n",
      "Epoch 133/2000\n",
      "8/8 [==============================] - 2s 240ms/step - loss: 8074.6333 - categorical_accuracy: 0.0820\n",
      "Epoch 134/2000\n",
      "8/8 [==============================] - 2s 246ms/step - loss: 7728.3711 - categorical_accuracy: 0.0859\n",
      "Epoch 135/2000\n",
      "8/8 [==============================] - 2s 248ms/step - loss: 5582.9126 - categorical_accuracy: 0.1016\n",
      "Epoch 136/2000\n",
      "8/8 [==============================] - 2s 234ms/step - loss: 6187.3682 - categorical_accuracy: 0.1250\n",
      "Epoch 137/2000\n",
      "8/8 [==============================] - 2s 250ms/step - loss: 6988.4629 - categorical_accuracy: 0.0820\n",
      "Epoch 138/2000\n",
      "8/8 [==============================] - 2s 242ms/step - loss: 10078.3926 - categorical_accuracy: 0.0898\n",
      "Epoch 139/2000\n",
      "8/8 [==============================] - 2s 237ms/step - loss: 8356.1777 - categorical_accuracy: 0.1328\n",
      "Epoch 140/2000\n",
      "8/8 [==============================] - 2s 242ms/step - loss: 7215.9365 - categorical_accuracy: 0.0781\n",
      "Epoch 141/2000\n",
      "8/8 [==============================] - 2s 244ms/step - loss: 7466.4600 - categorical_accuracy: 0.0781\n",
      "Epoch 142/2000\n",
      "8/8 [==============================] - 2s 235ms/step - loss: 6727.1558 - categorical_accuracy: 0.1016\n",
      "Epoch 143/2000\n",
      "8/8 [==============================] - 2s 245ms/step - loss: 7981.2314 - categorical_accuracy: 0.1016\n",
      "Epoch 144/2000\n",
      "8/8 [==============================] - 2s 247ms/step - loss: 11109.6543 - categorical_accuracy: 0.1367\n",
      "Epoch 145/2000\n",
      "8/8 [==============================] - 2s 235ms/step - loss: 8868.0820 - categorical_accuracy: 0.1367\n",
      "Epoch 146/2000\n",
      "8/8 [==============================] - 2s 243ms/step - loss: 8413.0352 - categorical_accuracy: 0.1094\n",
      "Epoch 147/2000\n",
      "8/8 [==============================] - 2s 246ms/step - loss: 8787.9863 - categorical_accuracy: 0.1289\n",
      "Epoch 148/2000\n",
      "8/8 [==============================] - 2s 239ms/step - loss: 7518.3218 - categorical_accuracy: 0.0742\n",
      "Epoch 149/2000\n",
      "8/8 [==============================] - 2s 243ms/step - loss: 7486.4038 - categorical_accuracy: 0.1172\n",
      "Epoch 150/2000\n",
      "8/8 [==============================] - 2s 249ms/step - loss: 10449.7656 - categorical_accuracy: 0.1094\n",
      "Epoch 151/2000\n",
      "8/8 [==============================] - 2s 233ms/step - loss: 8798.1494 - categorical_accuracy: 0.0938\n",
      "Epoch 152/2000\n",
      "8/8 [==============================] - 2s 257ms/step - loss: 7278.8921 - categorical_accuracy: 0.1289\n",
      "Epoch 153/2000\n",
      "8/8 [==============================] - 2s 252ms/step - loss: 4783.9976 - categorical_accuracy: 0.1016\n",
      "Epoch 154/2000\n",
      "8/8 [==============================] - 2s 241ms/step - loss: 6773.7144 - categorical_accuracy: 0.0859\n",
      "Epoch 155/2000\n",
      "8/8 [==============================] - 2s 243ms/step - loss: 4275.0547 - categorical_accuracy: 0.1172\n",
      "Epoch 156/2000\n",
      "8/8 [==============================] - 2s 243ms/step - loss: 10591.0508 - categorical_accuracy: 0.1172\n",
      "Epoch 157/2000\n",
      "8/8 [==============================] - 2s 247ms/step - loss: 13172.4678 - categorical_accuracy: 0.1055\n",
      "Epoch 158/2000\n",
      "8/8 [==============================] - 2s 239ms/step - loss: 12800.0654 - categorical_accuracy: 0.1016\n",
      "Epoch 159/2000\n",
      "8/8 [==============================] - 2s 247ms/step - loss: 11816.6377 - categorical_accuracy: 0.1133\n",
      "Epoch 160/2000\n",
      "8/8 [==============================] - 2s 236ms/step - loss: 10454.1797 - categorical_accuracy: 0.1172\n",
      "Epoch 161/2000\n",
      "8/8 [==============================] - 2s 241ms/step - loss: 9610.4336 - categorical_accuracy: 0.1016\n",
      "Epoch 162/2000\n",
      "8/8 [==============================] - 2s 249ms/step - loss: 5989.1929 - categorical_accuracy: 0.0977\n",
      "Epoch 163/2000\n",
      "8/8 [==============================] - 2s 241ms/step - loss: 12974.9844 - categorical_accuracy: 0.1016\n",
      "Epoch 164/2000\n",
      "8/8 [==============================] - 2s 241ms/step - loss: 7094.4087 - categorical_accuracy: 0.0898\n",
      "Epoch 165/2000\n",
      "8/8 [==============================] - 2s 247ms/step - loss: 8985.7168 - categorical_accuracy: 0.1055\n",
      "Epoch 166/2000\n",
      "8/8 [==============================] - 2s 241ms/step - loss: 8149.9688 - categorical_accuracy: 0.1289\n",
      "Epoch 167/2000\n",
      "8/8 [==============================] - 2s 240ms/step - loss: 6486.4854 - categorical_accuracy: 0.1133\n",
      "Epoch 168/2000\n",
      "8/8 [==============================] - 2s 250ms/step - loss: 8233.5596 - categorical_accuracy: 0.1133\n",
      "Epoch 169/2000\n",
      "8/8 [==============================] - 2s 235ms/step - loss: 6271.6338 - categorical_accuracy: 0.1094\n",
      "Epoch 170/2000\n",
      "8/8 [==============================] - 2s 246ms/step - loss: 6370.7754 - categorical_accuracy: 0.0898\n",
      "Epoch 171/2000\n",
      "8/8 [==============================] - 2s 240ms/step - loss: 3914.5637 - categorical_accuracy: 0.1406\n",
      "Epoch 172/2000\n",
      "8/8 [==============================] - 2s 244ms/step - loss: 5955.3882 - categorical_accuracy: 0.0703\n",
      "Epoch 173/2000\n",
      "8/8 [==============================] - 2s 232ms/step - loss: 10430.3740 - categorical_accuracy: 0.1016\n",
      "Epoch 174/2000\n",
      "8/8 [==============================] - 2s 259ms/step - loss: 9013.9014 - categorical_accuracy: 0.1055\n",
      "Epoch 175/2000\n",
      "8/8 [==============================] - 2s 239ms/step - loss: 8108.4766 - categorical_accuracy: 0.1133\n",
      "Epoch 176/2000\n",
      "8/8 [==============================] - 2s 237ms/step - loss: 6514.0288 - categorical_accuracy: 0.0977\n",
      "Epoch 177/2000\n",
      "8/8 [==============================] - 2s 245ms/step - loss: 6859.7148 - categorical_accuracy: 0.1055\n",
      "Epoch 178/2000\n",
      "8/8 [==============================] - 2s 241ms/step - loss: 7523.2324 - categorical_accuracy: 0.0977\n",
      "Epoch 179/2000\n",
      "8/8 [==============================] - 2s 235ms/step - loss: 11137.7852 - categorical_accuracy: 0.1055\n",
      "Epoch 180/2000\n",
      "8/8 [==============================] - 2s 243ms/step - loss: 37449.2188 - categorical_accuracy: 0.1016\n",
      "Epoch 181/2000\n",
      "8/8 [==============================] - 2s 244ms/step - loss: 31072.2891 - categorical_accuracy: 0.1172\n",
      "Epoch 182/2000\n",
      "8/8 [==============================] - 2s 234ms/step - loss: 19665.2500 - categorical_accuracy: 0.1094\n",
      "Epoch 183/2000\n",
      "8/8 [==============================] - 2s 263ms/step - loss: 36808.4766 - categorical_accuracy: 0.1055\n",
      "Epoch 184/2000\n",
      "8/8 [==============================] - 2s 252ms/step - loss: 227986.7188 - categorical_accuracy: 0.0977\n",
      "Epoch 185/2000\n",
      "8/8 [==============================] - 2s 241ms/step - loss: 461392.3438 - categorical_accuracy: 0.1094\n",
      "Epoch 186/2000\n",
      "8/8 [==============================] - 2s 240ms/step - loss: 207827.5000 - categorical_accuracy: 0.1289\n",
      "Epoch 187/2000\n",
      "8/8 [==============================] - 2s 248ms/step - loss: 2019.0217 - categorical_accuracy: 0.1211\n",
      "Epoch 188/2000\n",
      "8/8 [==============================] - 2s 236ms/step - loss: 4136.6177 - categorical_accuracy: 0.1172\n",
      "Epoch 189/2000\n",
      "8/8 [==============================] - 2s 245ms/step - loss: 2.1986 - categorical_accuracy: 0.1133\n",
      "Epoch 190/2000\n",
      "8/8 [==============================] - 2s 250ms/step - loss: 2.1986 - categorical_accuracy: 0.1133\n",
      "Epoch 191/2000\n",
      "8/8 [==============================] - 2s 237ms/step - loss: 2.1986 - categorical_accuracy: 0.1133\n",
      "Epoch 192/2000\n",
      "8/8 [==============================] - 2s 242ms/step - loss: 2.1986 - categorical_accuracy: 0.1133\n",
      "Epoch 193/2000\n",
      "8/8 [==============================] - 2s 242ms/step - loss: 2.1986 - categorical_accuracy: 0.1133\n",
      "Epoch 194/2000\n",
      "8/8 [==============================] - 2s 237ms/step - loss: 2.1986 - categorical_accuracy: 0.1133\n",
      "Epoch 195/2000\n",
      "8/8 [==============================] - 2s 236ms/step - loss: 2.1986 - categorical_accuracy: 0.1133\n",
      "Epoch 196/2000\n",
      "8/8 [==============================] - 2s 250ms/step - loss: 2.1986 - categorical_accuracy: 0.1133\n",
      "Epoch 197/2000\n",
      "8/8 [==============================] - 2s 235ms/step - loss: 2.1986 - categorical_accuracy: 0.1133\n",
      "Epoch 198/2000\n",
      "8/8 [==============================] - 2s 244ms/step - loss: 2.1985 - categorical_accuracy: 0.1133\n",
      "Epoch 199/2000\n",
      "8/8 [==============================] - 2s 245ms/step - loss: 2.1985 - categorical_accuracy: 0.1133\n",
      "Epoch 200/2000\n",
      "8/8 [==============================] - 2s 238ms/step - loss: 2.1985 - categorical_accuracy: 0.1133\n",
      "Epoch 201/2000\n",
      "8/8 [==============================] - 2s 239ms/step - loss: 2.1985 - categorical_accuracy: 0.1133\n",
      "Epoch 202/2000\n",
      "8/8 [==============================] - 2s 248ms/step - loss: 2.1985 - categorical_accuracy: 0.1133\n",
      "Epoch 203/2000\n",
      "8/8 [==============================] - 2s 250ms/step - loss: 2.1985 - categorical_accuracy: 0.1133\n",
      "Epoch 204/2000\n",
      "8/8 [==============================] - 2s 247ms/step - loss: 2.1985 - categorical_accuracy: 0.1133\n",
      "Epoch 205/2000\n",
      "8/8 [==============================] - 2s 272ms/step - loss: 2.1984 - categorical_accuracy: 0.1133\n",
      "Epoch 206/2000\n",
      "8/8 [==============================] - 2s 269ms/step - loss: 2.1984 - categorical_accuracy: 0.1133\n",
      "Epoch 207/2000\n",
      "8/8 [==============================] - 2s 252ms/step - loss: 2.1984 - categorical_accuracy: 0.1133\n",
      "Epoch 208/2000\n",
      "8/8 [==============================] - 2s 260ms/step - loss: 2.1984 - categorical_accuracy: 0.1133\n",
      "Epoch 209/2000\n",
      "8/8 [==============================] - 2s 252ms/step - loss: 2.1984 - categorical_accuracy: 0.1133\n",
      "Epoch 210/2000\n",
      "8/8 [==============================] - 2s 257ms/step - loss: 2.1984 - categorical_accuracy: 0.1133\n",
      "Epoch 211/2000\n",
      "8/8 [==============================] - 2s 265ms/step - loss: 2.1984 - categorical_accuracy: 0.1133\n",
      "Epoch 212/2000\n",
      "8/8 [==============================] - 2s 260ms/step - loss: 2.1984 - categorical_accuracy: 0.1133\n",
      "Epoch 213/2000\n",
      "8/8 [==============================] - 2s 263ms/step - loss: 2.1984 - categorical_accuracy: 0.1133\n",
      "Epoch 214/2000\n",
      "8/8 [==============================] - 2s 272ms/step - loss: 2.1983 - categorical_accuracy: 0.1133\n",
      "Epoch 215/2000\n",
      "8/8 [==============================] - 2s 250ms/step - loss: 2.1983 - categorical_accuracy: 0.1133\n",
      "Epoch 216/2000\n",
      "8/8 [==============================] - 2s 261ms/step - loss: 2.1983 - categorical_accuracy: 0.1133\n",
      "Epoch 217/2000\n",
      "8/8 [==============================] - 2s 259ms/step - loss: 2.1983 - categorical_accuracy: 0.1133\n",
      "Epoch 218/2000\n",
      "8/8 [==============================] - 2s 266ms/step - loss: 2.1983 - categorical_accuracy: 0.1133\n",
      "Epoch 219/2000\n",
      "8/8 [==============================] - 2s 254ms/step - loss: 2.1983 - categorical_accuracy: 0.1133\n",
      "Epoch 220/2000\n",
      "8/8 [==============================] - 2s 268ms/step - loss: 2.1983 - categorical_accuracy: 0.1133\n",
      "Epoch 221/2000\n",
      "8/8 [==============================] - 2s 257ms/step - loss: 2.1983 - categorical_accuracy: 0.1133\n",
      "Epoch 222/2000\n",
      "8/8 [==============================] - 2s 252ms/step - loss: 2.1982 - categorical_accuracy: 0.1133\n",
      "Epoch 223/2000\n",
      "8/8 [==============================] - 2s 266ms/step - loss: 2.1982 - categorical_accuracy: 0.1133\n",
      "Epoch 224/2000\n",
      "8/8 [==============================] - 2s 253ms/step - loss: 2.1982 - categorical_accuracy: 0.1133\n",
      "Epoch 225/2000\n",
      "8/8 [==============================] - 2s 258ms/step - loss: 2.1982 - categorical_accuracy: 0.1133\n",
      "Epoch 226/2000\n",
      "8/8 [==============================] - 2s 240ms/step - loss: 2.1982 - categorical_accuracy: 0.1133\n",
      "Epoch 227/2000\n",
      "8/8 [==============================] - 2s 248ms/step - loss: 2.1982 - categorical_accuracy: 0.1133\n",
      "Epoch 228/2000\n",
      "8/8 [==============================] - 2s 274ms/step - loss: 2.1982 - categorical_accuracy: 0.1133\n",
      "Epoch 229/2000\n",
      "8/8 [==============================] - 2s 255ms/step - loss: 2.1982 - categorical_accuracy: 0.1133\n",
      "Epoch 230/2000\n",
      "8/8 [==============================] - 2s 269ms/step - loss: 2.1981 - categorical_accuracy: 0.1133\n",
      "Epoch 231/2000\n",
      "8/8 [==============================] - 2s 253ms/step - loss: 2.1981 - categorical_accuracy: 0.1133\n",
      "Epoch 232/2000\n",
      "8/8 [==============================] - 2s 267ms/step - loss: 2.1981 - categorical_accuracy: 0.1133\n",
      "Epoch 233/2000\n",
      "8/8 [==============================] - 2s 254ms/step - loss: 2.1981 - categorical_accuracy: 0.1133\n",
      "Epoch 234/2000\n",
      "8/8 [==============================] - 2s 252ms/step - loss: 2.1981 - categorical_accuracy: 0.1133\n",
      "Epoch 235/2000\n",
      "8/8 [==============================] - 2s 255ms/step - loss: 2.1981 - categorical_accuracy: 0.1133\n",
      "Epoch 236/2000\n",
      "8/8 [==============================] - 2s 259ms/step - loss: 2.1981 - categorical_accuracy: 0.1133\n",
      "Epoch 237/2000\n",
      "8/8 [==============================] - 2s 250ms/step - loss: 2.1981 - categorical_accuracy: 0.1133\n",
      "Epoch 238/2000\n",
      "8/8 [==============================] - 2s 264ms/step - loss: 2.1980 - categorical_accuracy: 0.1133\n",
      "Epoch 239/2000\n",
      "8/8 [==============================] - 2s 250ms/step - loss: 2.1980 - categorical_accuracy: 0.1133\n",
      "Epoch 240/2000\n",
      "8/8 [==============================] - 2s 250ms/step - loss: 2.1980 - categorical_accuracy: 0.1133\n",
      "Epoch 241/2000\n",
      "8/8 [==============================] - 2s 254ms/step - loss: 2.1980 - categorical_accuracy: 0.1133\n",
      "Epoch 242/2000\n",
      "8/8 [==============================] - 2s 266ms/step - loss: 2.1980 - categorical_accuracy: 0.1133\n",
      "Epoch 243/2000\n",
      "8/8 [==============================] - 2s 256ms/step - loss: 2.1980 - categorical_accuracy: 0.1133\n",
      "Epoch 244/2000\n",
      "8/8 [==============================] - 2s 268ms/step - loss: 2.1980 - categorical_accuracy: 0.1133\n",
      "Epoch 245/2000\n",
      "8/8 [==============================] - 2s 249ms/step - loss: 2.1980 - categorical_accuracy: 0.1133\n",
      "Epoch 246/2000\n",
      "8/8 [==============================] - 2s 233ms/step - loss: 2.1980 - categorical_accuracy: 0.1133\n",
      "Epoch 247/2000\n",
      "8/8 [==============================] - 2s 251ms/step - loss: 2.1980 - categorical_accuracy: 0.1133\n",
      "Epoch 248/2000\n",
      "8/8 [==============================] - 2s 247ms/step - loss: 2.1979 - categorical_accuracy: 0.1133\n",
      "Epoch 249/2000\n",
      "8/8 [==============================] - 2s 242ms/step - loss: 2.1979 - categorical_accuracy: 0.1133\n",
      "Epoch 250/2000\n",
      "8/8 [==============================] - 2s 249ms/step - loss: 2.1979 - categorical_accuracy: 0.1133\n",
      "Epoch 251/2000\n",
      "8/8 [==============================] - 2s 247ms/step - loss: 2.1979 - categorical_accuracy: 0.1133\n",
      "Epoch 252/2000\n",
      "8/8 [==============================] - 2s 236ms/step - loss: 2.1979 - categorical_accuracy: 0.1133\n",
      "Epoch 253/2000\n",
      "8/8 [==============================] - 2s 249ms/step - loss: 2.1979 - categorical_accuracy: 0.1133\n",
      "Epoch 254/2000\n",
      "8/8 [==============================] - 2s 252ms/step - loss: 2.1979 - categorical_accuracy: 0.1133\n",
      "Epoch 255/2000\n",
      "8/8 [==============================] - 2s 245ms/step - loss: 2.1978 - categorical_accuracy: 0.1133\n",
      "Epoch 256/2000\n",
      "8/8 [==============================] - 2s 265ms/step - loss: 2.1978 - categorical_accuracy: 0.1133\n",
      "Epoch 257/2000\n",
      "8/8 [==============================] - 2s 240ms/step - loss: 2.1978 - categorical_accuracy: 0.1133\n",
      "Epoch 258/2000\n",
      "8/8 [==============================] - 2s 243ms/step - loss: 2.1978 - categorical_accuracy: 0.1133\n",
      "Epoch 259/2000\n",
      "8/8 [==============================] - 2s 255ms/step - loss: 2.1978 - categorical_accuracy: 0.1133\n",
      "Epoch 260/2000\n",
      "8/8 [==============================] - 2s 261ms/step - loss: 2.1978 - categorical_accuracy: 0.1133\n",
      "Epoch 261/2000\n",
      "8/8 [==============================] - 2s 255ms/step - loss: 2.1978 - categorical_accuracy: 0.1133\n",
      "Epoch 262/2000\n",
      "8/8 [==============================] - 2s 257ms/step - loss: 2.1978 - categorical_accuracy: 0.1133\n",
      "Epoch 263/2000\n",
      "8/8 [==============================] - 2s 245ms/step - loss: 2.1978 - categorical_accuracy: 0.1133\n",
      "Epoch 264/2000\n",
      "8/8 [==============================] - 2s 247ms/step - loss: 2.1978 - categorical_accuracy: 0.1133\n",
      "Epoch 265/2000\n",
      "8/8 [==============================] - 2s 256ms/step - loss: 2.1977 - categorical_accuracy: 0.1133\n",
      "Epoch 266/2000\n",
      "8/8 [==============================] - 2s 242ms/step - loss: 2.1977 - categorical_accuracy: 0.1133\n",
      "Epoch 267/2000\n",
      "8/8 [==============================] - 2s 250ms/step - loss: 2.1977 - categorical_accuracy: 0.1133\n",
      "Epoch 268/2000\n",
      "8/8 [==============================] - 2s 251ms/step - loss: 2.1977 - categorical_accuracy: 0.1133\n",
      "Epoch 269/2000\n",
      "8/8 [==============================] - 2s 258ms/step - loss: 2.1977 - categorical_accuracy: 0.1133\n",
      "Epoch 270/2000\n",
      "8/8 [==============================] - 2s 243ms/step - loss: 2.1977 - categorical_accuracy: 0.1133\n",
      "Epoch 271/2000\n",
      "8/8 [==============================] - 2s 256ms/step - loss: 2.1977 - categorical_accuracy: 0.1133\n",
      "Epoch 272/2000\n",
      "8/8 [==============================] - 2s 259ms/step - loss: 2.1977 - categorical_accuracy: 0.1133\n",
      "Epoch 273/2000\n",
      "8/8 [==============================] - 2s 256ms/step - loss: 2.1977 - categorical_accuracy: 0.1133\n",
      "Epoch 274/2000\n",
      "8/8 [==============================] - 2s 256ms/step - loss: 2.1976 - categorical_accuracy: 0.1133\n",
      "Epoch 275/2000\n",
      "8/8 [==============================] - 2s 241ms/step - loss: 2.1976 - categorical_accuracy: 0.1133\n",
      "Epoch 276/2000\n",
      "8/8 [==============================] - 2s 249ms/step - loss: 2.1976 - categorical_accuracy: 0.1133\n",
      "Epoch 277/2000\n",
      "8/8 [==============================] - 2s 261ms/step - loss: 2.1976 - categorical_accuracy: 0.1133\n",
      "Epoch 278/2000\n",
      "8/8 [==============================] - 2s 253ms/step - loss: 2.1976 - categorical_accuracy: 0.1133\n",
      "Epoch 279/2000\n",
      "8/8 [==============================] - 2s 243ms/step - loss: 2.1976 - categorical_accuracy: 0.1133\n",
      "Epoch 280/2000\n",
      "8/8 [==============================] - 2s 255ms/step - loss: 2.1976 - categorical_accuracy: 0.1133\n",
      "Epoch 281/2000\n",
      "8/8 [==============================] - 2s 244ms/step - loss: 2.1976 - categorical_accuracy: 0.1133\n",
      "Epoch 282/2000\n",
      "8/8 [==============================] - 2s 248ms/step - loss: 2.1976 - categorical_accuracy: 0.1133\n",
      "Epoch 283/2000\n",
      "8/8 [==============================] - 2s 250ms/step - loss: 2.1975 - categorical_accuracy: 0.1133\n",
      "Epoch 284/2000\n",
      "8/8 [==============================] - 2s 252ms/step - loss: 2.1975 - categorical_accuracy: 0.1133\n",
      "Epoch 285/2000\n",
      "8/8 [==============================] - 2s 242ms/step - loss: 2.1975 - categorical_accuracy: 0.1133\n",
      "Epoch 286/2000\n",
      "8/8 [==============================] - 2s 253ms/step - loss: 2.1975 - categorical_accuracy: 0.1133\n",
      "Epoch 287/2000\n",
      "8/8 [==============================] - 2s 248ms/step - loss: 2.1975 - categorical_accuracy: 0.1133\n",
      "Epoch 288/2000\n",
      "8/8 [==============================] - 2s 245ms/step - loss: 2.1975 - categorical_accuracy: 0.1133\n",
      "Epoch 289/2000\n",
      "8/8 [==============================] - 2s 258ms/step - loss: 2.1975 - categorical_accuracy: 0.1133\n",
      "Epoch 290/2000\n",
      "8/8 [==============================] - 2s 238ms/step - loss: 2.1975 - categorical_accuracy: 0.1133\n",
      "Epoch 291/2000\n",
      "8/8 [==============================] - 2s 249ms/step - loss: 2.1975 - categorical_accuracy: 0.1133\n",
      "Epoch 292/2000\n",
      "8/8 [==============================] - 2s 250ms/step - loss: 2.1975 - categorical_accuracy: 0.1133\n",
      "Epoch 293/2000\n",
      "8/8 [==============================] - 2s 248ms/step - loss: 2.1974 - categorical_accuracy: 0.1133\n",
      "Epoch 294/2000\n",
      "8/8 [==============================] - 2s 248ms/step - loss: 2.1975 - categorical_accuracy: 0.1133\n",
      "Epoch 295/2000\n",
      "8/8 [==============================] - 2s 254ms/step - loss: 2.1974 - categorical_accuracy: 0.1133\n",
      "Epoch 296/2000\n",
      "8/8 [==============================] - 2s 248ms/step - loss: 2.1974 - categorical_accuracy: 0.1133\n",
      "Epoch 297/2000\n",
      "8/8 [==============================] - 2s 246ms/step - loss: 2.1974 - categorical_accuracy: 0.1133\n",
      "Epoch 298/2000\n",
      "8/8 [==============================] - 2s 256ms/step - loss: 2.1974 - categorical_accuracy: 0.1133\n",
      "Epoch 299/2000\n",
      "8/8 [==============================] - 2s 247ms/step - loss: 2.1974 - categorical_accuracy: 0.1133\n",
      "Epoch 300/2000\n",
      "8/8 [==============================] - 2s 262ms/step - loss: 2.1974 - categorical_accuracy: 0.1133\n",
      "Epoch 301/2000\n",
      "8/8 [==============================] - 2s 254ms/step - loss: 2.1974 - categorical_accuracy: 0.1133\n",
      "Epoch 302/2000\n",
      "8/8 [==============================] - 2s 264ms/step - loss: 2.1974 - categorical_accuracy: 0.1133\n",
      "Epoch 303/2000\n",
      "8/8 [==============================] - 2s 249ms/step - loss: 2.1974 - categorical_accuracy: 0.1133\n",
      "Epoch 304/2000\n",
      "8/8 [==============================] - 2s 261ms/step - loss: 2.1974 - categorical_accuracy: 0.1133\n",
      "Epoch 305/2000\n",
      "8/8 [==============================] - 2s 243ms/step - loss: 2.1973 - categorical_accuracy: 0.1133\n",
      "Epoch 306/2000\n",
      "8/8 [==============================] - 2s 257ms/step - loss: 2.1973 - categorical_accuracy: 0.1133\n",
      "Epoch 307/2000\n",
      "8/8 [==============================] - 2s 259ms/step - loss: 2.1973 - categorical_accuracy: 0.1133\n",
      "Epoch 308/2000\n",
      "8/8 [==============================] - 2s 249ms/step - loss: 2.1973 - categorical_accuracy: 0.1133\n",
      "Epoch 309/2000\n",
      "8/8 [==============================] - 2s 253ms/step - loss: 2.1973 - categorical_accuracy: 0.1133\n",
      "Epoch 310/2000\n",
      "8/8 [==============================] - 2s 256ms/step - loss: 2.1973 - categorical_accuracy: 0.1133\n",
      "Epoch 311/2000\n",
      "8/8 [==============================] - 2s 251ms/step - loss: 2.1973 - categorical_accuracy: 0.1133\n",
      "Epoch 312/2000\n",
      "8/8 [==============================] - 2s 251ms/step - loss: 2.1973 - categorical_accuracy: 0.1133\n",
      "Epoch 313/2000\n",
      "8/8 [==============================] - 2s 263ms/step - loss: 2.1973 - categorical_accuracy: 0.1133\n",
      "Epoch 314/2000\n",
      "8/8 [==============================] - 2s 246ms/step - loss: 2.1973 - categorical_accuracy: 0.1133\n",
      "Epoch 315/2000\n",
      "8/8 [==============================] - 2s 255ms/step - loss: 2.1973 - categorical_accuracy: 0.1133\n",
      "Epoch 316/2000\n",
      "8/8 [==============================] - 2s 255ms/step - loss: 2.1972 - categorical_accuracy: 0.1133\n",
      "Epoch 317/2000\n",
      "8/8 [==============================] - 2s 252ms/step - loss: 2.1972 - categorical_accuracy: 0.1133\n",
      "Epoch 318/2000\n",
      "8/8 [==============================] - 2s 253ms/step - loss: 2.1972 - categorical_accuracy: 0.1133\n",
      "Epoch 319/2000\n",
      "8/8 [==============================] - 2s 258ms/step - loss: 2.1972 - categorical_accuracy: 0.1133\n",
      "Epoch 320/2000\n",
      "8/8 [==============================] - 2s 250ms/step - loss: 2.1972 - categorical_accuracy: 0.1133\n",
      "Epoch 321/2000\n",
      "8/8 [==============================] - 2s 255ms/step - loss: 2.1972 - categorical_accuracy: 0.1133\n",
      "Epoch 322/2000\n",
      "8/8 [==============================] - 2s 260ms/step - loss: 2.1972 - categorical_accuracy: 0.1133\n",
      "Epoch 323/2000\n",
      "8/8 [==============================] - 2s 245ms/step - loss: 2.1972 - categorical_accuracy: 0.1133\n",
      "Epoch 324/2000\n",
      "8/8 [==============================] - 2s 262ms/step - loss: 2.1972 - categorical_accuracy: 0.1133\n",
      "Epoch 325/2000\n",
      "8/8 [==============================] - 2s 253ms/step - loss: 2.1972 - categorical_accuracy: 0.1133\n",
      "Epoch 326/2000\n",
      "8/8 [==============================] - 2s 253ms/step - loss: 2.1972 - categorical_accuracy: 0.1133\n",
      "Epoch 327/2000\n",
      "8/8 [==============================] - 2s 255ms/step - loss: 2.1972 - categorical_accuracy: 0.1133\n",
      "Epoch 328/2000\n",
      "8/8 [==============================] - 2s 256ms/step - loss: 2.1971 - categorical_accuracy: 0.1133\n",
      "Epoch 329/2000\n",
      "8/8 [==============================] - 2s 248ms/step - loss: 2.1972 - categorical_accuracy: 0.1133\n",
      "Epoch 330/2000\n",
      "8/8 [==============================] - 2s 262ms/step - loss: 2.1971 - categorical_accuracy: 0.1133\n",
      "Epoch 331/2000\n",
      "8/8 [==============================] - 2s 265ms/step - loss: 2.1971 - categorical_accuracy: 0.1133\n",
      "Epoch 332/2000\n",
      "8/8 [==============================] - 2s 256ms/step - loss: 2.1971 - categorical_accuracy: 0.1133\n",
      "Epoch 333/2000\n",
      "8/8 [==============================] - 2s 275ms/step - loss: 2.1971 - categorical_accuracy: 0.1133\n",
      "Epoch 334/2000\n",
      "8/8 [==============================] - 2s 248ms/step - loss: 2.1971 - categorical_accuracy: 0.1133\n",
      "Epoch 335/2000\n",
      "8/8 [==============================] - 2s 252ms/step - loss: 2.1971 - categorical_accuracy: 0.1133\n",
      "Epoch 336/2000\n",
      "8/8 [==============================] - 2s 256ms/step - loss: 2.1971 - categorical_accuracy: 0.1133\n",
      "Epoch 337/2000\n",
      "8/8 [==============================] - 2s 263ms/step - loss: 2.1971 - categorical_accuracy: 0.1133\n",
      "Epoch 338/2000\n",
      "8/8 [==============================] - 2s 246ms/step - loss: 2.1971 - categorical_accuracy: 0.1133\n",
      "Epoch 339/2000\n",
      "8/8 [==============================] - 2s 259ms/step - loss: 2.1971 - categorical_accuracy: 0.1133\n",
      "Epoch 340/2000\n",
      "8/8 [==============================] - 2s 250ms/step - loss: 2.1971 - categorical_accuracy: 0.1133\n",
      "Epoch 341/2000\n",
      "8/8 [==============================] - 2s 253ms/step - loss: 2.1971 - categorical_accuracy: 0.1133\n",
      "Epoch 342/2000\n",
      "8/8 [==============================] - 2s 259ms/step - loss: 2.1970 - categorical_accuracy: 0.1133\n",
      "Epoch 343/2000\n",
      "8/8 [==============================] - 2s 244ms/step - loss: 2.1970 - categorical_accuracy: 0.1133\n",
      "Epoch 344/2000\n",
      "8/8 [==============================] - 2s 256ms/step - loss: 2.1970 - categorical_accuracy: 0.1133\n",
      "Epoch 345/2000\n",
      "8/8 [==============================] - 2s 257ms/step - loss: 2.1970 - categorical_accuracy: 0.1133\n",
      "Epoch 346/2000\n",
      "8/8 [==============================] - 2s 249ms/step - loss: 2.1970 - categorical_accuracy: 0.1133\n",
      "Epoch 347/2000\n",
      "8/8 [==============================] - 2s 249ms/step - loss: 2.1970 - categorical_accuracy: 0.1133\n",
      "Epoch 348/2000\n",
      "8/8 [==============================] - 2s 260ms/step - loss: 2.1970 - categorical_accuracy: 0.1133\n",
      "Epoch 349/2000\n",
      "8/8 [==============================] - 2s 246ms/step - loss: 2.1970 - categorical_accuracy: 0.1133\n",
      "Epoch 350/2000\n",
      "8/8 [==============================] - 2s 253ms/step - loss: 2.1970 - categorical_accuracy: 0.1133\n",
      "Epoch 351/2000\n",
      "8/8 [==============================] - 2s 258ms/step - loss: 2.1970 - categorical_accuracy: 0.1133\n",
      "Epoch 352/2000\n",
      "8/8 [==============================] - 2s 249ms/step - loss: 2.1970 - categorical_accuracy: 0.1133\n",
      "Epoch 353/2000\n",
      "8/8 [==============================] - 2s 253ms/step - loss: 2.1970 - categorical_accuracy: 0.1133\n",
      "Epoch 354/2000\n",
      "8/8 [==============================] - 2s 254ms/step - loss: 2.1970 - categorical_accuracy: 0.1133\n",
      "Epoch 355/2000\n",
      "8/8 [==============================] - 2s 250ms/step - loss: 2.1969 - categorical_accuracy: 0.1133\n",
      "Epoch 356/2000\n",
      "8/8 [==============================] - 2s 246ms/step - loss: 2.1969 - categorical_accuracy: 0.1133\n",
      "Epoch 357/2000\n",
      "8/8 [==============================] - 2s 256ms/step - loss: 2.1970 - categorical_accuracy: 0.1133\n",
      "Epoch 358/2000\n",
      "8/8 [==============================] - 2s 241ms/step - loss: 2.1969 - categorical_accuracy: 0.1133\n",
      "Epoch 359/2000\n",
      "8/8 [==============================] - 2s 253ms/step - loss: 2.1969 - categorical_accuracy: 0.1133\n",
      "Epoch 360/2000\n",
      "8/8 [==============================] - 2s 254ms/step - loss: 2.1969 - categorical_accuracy: 0.1133\n",
      "Epoch 361/2000\n",
      "8/8 [==============================] - 2s 258ms/step - loss: 2.1969 - categorical_accuracy: 0.1133\n",
      "Epoch 362/2000\n",
      "8/8 [==============================] - 2s 257ms/step - loss: 2.1969 - categorical_accuracy: 0.1133\n",
      "Epoch 363/2000\n",
      "8/8 [==============================] - 2s 258ms/step - loss: 2.1969 - categorical_accuracy: 0.1133\n",
      "Epoch 364/2000\n",
      "8/8 [==============================] - 2s 248ms/step - loss: 2.1969 - categorical_accuracy: 0.1133\n",
      "Epoch 365/2000\n",
      "8/8 [==============================] - 2s 250ms/step - loss: 2.1969 - categorical_accuracy: 0.1133\n",
      "Epoch 366/2000\n",
      "8/8 [==============================] - 2s 259ms/step - loss: 2.1969 - categorical_accuracy: 0.1133\n",
      "Epoch 367/2000\n",
      "8/8 [==============================] - 2s 250ms/step - loss: 2.1969 - categorical_accuracy: 0.1133\n",
      "Epoch 368/2000\n",
      "8/8 [==============================] - 2s 255ms/step - loss: 2.1969 - categorical_accuracy: 0.1133\n",
      "Epoch 369/2000\n",
      "8/8 [==============================] - 2s 252ms/step - loss: 2.1969 - categorical_accuracy: 0.1133\n",
      "Epoch 370/2000\n",
      "8/8 [==============================] - 2s 256ms/step - loss: 2.1969 - categorical_accuracy: 0.1133\n",
      "Epoch 371/2000\n",
      "8/8 [==============================] - 2s 267ms/step - loss: 2.1969 - categorical_accuracy: 0.1133\n",
      "Epoch 372/2000\n",
      "8/8 [==============================] - 2s 266ms/step - loss: 2.1969 - categorical_accuracy: 0.1133\n",
      "Epoch 373/2000\n",
      "8/8 [==============================] - 2s 258ms/step - loss: 2.1968 - categorical_accuracy: 0.1133\n",
      "Epoch 374/2000\n",
      "5/8 [=================>............] - ETA: 0s - loss: 2.1967 - categorical_accuracy: 0.1500"
     ]
    },
    {
     "ename": "KeyboardInterrupt",
     "evalue": "",
     "output_type": "error",
     "traceback": [
      "\u001b[1;31m---------------------------------------------------------------------------\u001b[0m",
      "\u001b[1;31mKeyboardInterrupt\u001b[0m                         Traceback (most recent call last)",
      "Input \u001b[1;32mIn [180]\u001b[0m, in \u001b[0;36m<cell line: 1>\u001b[1;34m()\u001b[0m\n\u001b[1;32m----> 1\u001b[0m \u001b[43mmodel\u001b[49m\u001b[38;5;241;43m.\u001b[39;49m\u001b[43mfit\u001b[49m\u001b[43m(\u001b[49m\u001b[43mX_train\u001b[49m\u001b[43m,\u001b[49m\u001b[43m \u001b[49m\u001b[43my_train\u001b[49m\u001b[43m,\u001b[49m\u001b[43m \u001b[49m\u001b[43mepochs\u001b[49m\u001b[38;5;241;43m=\u001b[39;49m\u001b[38;5;241;43m2000\u001b[39;49m\u001b[43m,\u001b[49m\u001b[43m \u001b[49m\u001b[43mcallbacks\u001b[49m\u001b[38;5;241;43m=\u001b[39;49m\u001b[43m[\u001b[49m\u001b[43mtb_callback\u001b[49m\u001b[43m]\u001b[49m\u001b[43m)\u001b[49m\n",
      "File \u001b[1;32mC:\\ProgramData\\Anaconda3\\lib\\site-packages\\keras\\utils\\traceback_utils.py:65\u001b[0m, in \u001b[0;36mfilter_traceback.<locals>.error_handler\u001b[1;34m(*args, **kwargs)\u001b[0m\n\u001b[0;32m     63\u001b[0m filtered_tb \u001b[38;5;241m=\u001b[39m \u001b[38;5;28;01mNone\u001b[39;00m\n\u001b[0;32m     64\u001b[0m \u001b[38;5;28;01mtry\u001b[39;00m:\n\u001b[1;32m---> 65\u001b[0m     \u001b[38;5;28;01mreturn\u001b[39;00m fn(\u001b[38;5;241m*\u001b[39margs, \u001b[38;5;241m*\u001b[39m\u001b[38;5;241m*\u001b[39mkwargs)\n\u001b[0;32m     66\u001b[0m \u001b[38;5;28;01mexcept\u001b[39;00m \u001b[38;5;167;01mException\u001b[39;00m \u001b[38;5;28;01mas\u001b[39;00m e:\n\u001b[0;32m     67\u001b[0m     filtered_tb \u001b[38;5;241m=\u001b[39m _process_traceback_frames(e\u001b[38;5;241m.\u001b[39m__traceback__)\n",
      "File \u001b[1;32mC:\\ProgramData\\Anaconda3\\lib\\site-packages\\keras\\engine\\training.py:1650\u001b[0m, in \u001b[0;36mModel.fit\u001b[1;34m(self, x, y, batch_size, epochs, verbose, callbacks, validation_split, validation_data, shuffle, class_weight, sample_weight, initial_epoch, steps_per_epoch, validation_steps, validation_batch_size, validation_freq, max_queue_size, workers, use_multiprocessing)\u001b[0m\n\u001b[0;32m   1642\u001b[0m \u001b[38;5;28;01mwith\u001b[39;00m tf\u001b[38;5;241m.\u001b[39mprofiler\u001b[38;5;241m.\u001b[39mexperimental\u001b[38;5;241m.\u001b[39mTrace(\n\u001b[0;32m   1643\u001b[0m     \u001b[38;5;124m\"\u001b[39m\u001b[38;5;124mtrain\u001b[39m\u001b[38;5;124m\"\u001b[39m,\n\u001b[0;32m   1644\u001b[0m     epoch_num\u001b[38;5;241m=\u001b[39mepoch,\n\u001b[1;32m   (...)\u001b[0m\n\u001b[0;32m   1647\u001b[0m     _r\u001b[38;5;241m=\u001b[39m\u001b[38;5;241m1\u001b[39m,\n\u001b[0;32m   1648\u001b[0m ):\n\u001b[0;32m   1649\u001b[0m     callbacks\u001b[38;5;241m.\u001b[39mon_train_batch_begin(step)\n\u001b[1;32m-> 1650\u001b[0m     tmp_logs \u001b[38;5;241m=\u001b[39m \u001b[38;5;28;43mself\u001b[39;49m\u001b[38;5;241;43m.\u001b[39;49m\u001b[43mtrain_function\u001b[49m\u001b[43m(\u001b[49m\u001b[43miterator\u001b[49m\u001b[43m)\u001b[49m\n\u001b[0;32m   1651\u001b[0m     \u001b[38;5;28;01mif\u001b[39;00m data_handler\u001b[38;5;241m.\u001b[39mshould_sync:\n\u001b[0;32m   1652\u001b[0m         context\u001b[38;5;241m.\u001b[39masync_wait()\n",
      "File \u001b[1;32mC:\\ProgramData\\Anaconda3\\lib\\site-packages\\tensorflow\\python\\util\\traceback_utils.py:150\u001b[0m, in \u001b[0;36mfilter_traceback.<locals>.error_handler\u001b[1;34m(*args, **kwargs)\u001b[0m\n\u001b[0;32m    148\u001b[0m filtered_tb \u001b[38;5;241m=\u001b[39m \u001b[38;5;28;01mNone\u001b[39;00m\n\u001b[0;32m    149\u001b[0m \u001b[38;5;28;01mtry\u001b[39;00m:\n\u001b[1;32m--> 150\u001b[0m   \u001b[38;5;28;01mreturn\u001b[39;00m fn(\u001b[38;5;241m*\u001b[39margs, \u001b[38;5;241m*\u001b[39m\u001b[38;5;241m*\u001b[39mkwargs)\n\u001b[0;32m    151\u001b[0m \u001b[38;5;28;01mexcept\u001b[39;00m \u001b[38;5;167;01mException\u001b[39;00m \u001b[38;5;28;01mas\u001b[39;00m e:\n\u001b[0;32m    152\u001b[0m   filtered_tb \u001b[38;5;241m=\u001b[39m _process_traceback_frames(e\u001b[38;5;241m.\u001b[39m__traceback__)\n",
      "File \u001b[1;32mC:\\ProgramData\\Anaconda3\\lib\\site-packages\\tensorflow\\python\\eager\\polymorphic_function\\polymorphic_function.py:880\u001b[0m, in \u001b[0;36mFunction.__call__\u001b[1;34m(self, *args, **kwds)\u001b[0m\n\u001b[0;32m    877\u001b[0m compiler \u001b[38;5;241m=\u001b[39m \u001b[38;5;124m\"\u001b[39m\u001b[38;5;124mxla\u001b[39m\u001b[38;5;124m\"\u001b[39m \u001b[38;5;28;01mif\u001b[39;00m \u001b[38;5;28mself\u001b[39m\u001b[38;5;241m.\u001b[39m_jit_compile \u001b[38;5;28;01melse\u001b[39;00m \u001b[38;5;124m\"\u001b[39m\u001b[38;5;124mnonXla\u001b[39m\u001b[38;5;124m\"\u001b[39m\n\u001b[0;32m    879\u001b[0m \u001b[38;5;28;01mwith\u001b[39;00m OptionalXlaContext(\u001b[38;5;28mself\u001b[39m\u001b[38;5;241m.\u001b[39m_jit_compile):\n\u001b[1;32m--> 880\u001b[0m   result \u001b[38;5;241m=\u001b[39m \u001b[38;5;28mself\u001b[39m\u001b[38;5;241m.\u001b[39m_call(\u001b[38;5;241m*\u001b[39margs, \u001b[38;5;241m*\u001b[39m\u001b[38;5;241m*\u001b[39mkwds)\n\u001b[0;32m    882\u001b[0m new_tracing_count \u001b[38;5;241m=\u001b[39m \u001b[38;5;28mself\u001b[39m\u001b[38;5;241m.\u001b[39mexperimental_get_tracing_count()\n\u001b[0;32m    883\u001b[0m without_tracing \u001b[38;5;241m=\u001b[39m (tracing_count \u001b[38;5;241m==\u001b[39m new_tracing_count)\n",
      "File \u001b[1;32mC:\\ProgramData\\Anaconda3\\lib\\site-packages\\tensorflow\\python\\eager\\polymorphic_function\\polymorphic_function.py:912\u001b[0m, in \u001b[0;36mFunction._call\u001b[1;34m(self, *args, **kwds)\u001b[0m\n\u001b[0;32m    909\u001b[0m   \u001b[38;5;28mself\u001b[39m\u001b[38;5;241m.\u001b[39m_lock\u001b[38;5;241m.\u001b[39mrelease()\n\u001b[0;32m    910\u001b[0m   \u001b[38;5;66;03m# In this case we have created variables on the first call, so we run the\u001b[39;00m\n\u001b[0;32m    911\u001b[0m   \u001b[38;5;66;03m# defunned version which is guaranteed to never create variables.\u001b[39;00m\n\u001b[1;32m--> 912\u001b[0m   \u001b[38;5;28;01mreturn\u001b[39;00m \u001b[38;5;28mself\u001b[39m\u001b[38;5;241m.\u001b[39m_no_variable_creation_fn(\u001b[38;5;241m*\u001b[39margs, \u001b[38;5;241m*\u001b[39m\u001b[38;5;241m*\u001b[39mkwds)  \u001b[38;5;66;03m# pylint: disable=not-callable\u001b[39;00m\n\u001b[0;32m    913\u001b[0m \u001b[38;5;28;01melif\u001b[39;00m \u001b[38;5;28mself\u001b[39m\u001b[38;5;241m.\u001b[39m_variable_creation_fn \u001b[38;5;129;01mis\u001b[39;00m \u001b[38;5;129;01mnot\u001b[39;00m \u001b[38;5;28;01mNone\u001b[39;00m:\n\u001b[0;32m    914\u001b[0m   \u001b[38;5;66;03m# Release the lock early so that multiple threads can perform the call\u001b[39;00m\n\u001b[0;32m    915\u001b[0m   \u001b[38;5;66;03m# in parallel.\u001b[39;00m\n\u001b[0;32m    916\u001b[0m   \u001b[38;5;28mself\u001b[39m\u001b[38;5;241m.\u001b[39m_lock\u001b[38;5;241m.\u001b[39mrelease()\n",
      "File \u001b[1;32mC:\\ProgramData\\Anaconda3\\lib\\site-packages\\tensorflow\\python\\eager\\polymorphic_function\\tracing_compiler.py:134\u001b[0m, in \u001b[0;36mTracingCompiler.__call__\u001b[1;34m(self, *args, **kwargs)\u001b[0m\n\u001b[0;32m    131\u001b[0m \u001b[38;5;28;01mwith\u001b[39;00m \u001b[38;5;28mself\u001b[39m\u001b[38;5;241m.\u001b[39m_lock:\n\u001b[0;32m    132\u001b[0m   (concrete_function,\n\u001b[0;32m    133\u001b[0m    filtered_flat_args) \u001b[38;5;241m=\u001b[39m \u001b[38;5;28mself\u001b[39m\u001b[38;5;241m.\u001b[39m_maybe_define_function(args, kwargs)\n\u001b[1;32m--> 134\u001b[0m \u001b[38;5;28;01mreturn\u001b[39;00m \u001b[43mconcrete_function\u001b[49m\u001b[38;5;241;43m.\u001b[39;49m\u001b[43m_call_flat\u001b[49m\u001b[43m(\u001b[49m\n\u001b[0;32m    135\u001b[0m \u001b[43m    \u001b[49m\u001b[43mfiltered_flat_args\u001b[49m\u001b[43m,\u001b[49m\u001b[43m \u001b[49m\u001b[43mcaptured_inputs\u001b[49m\u001b[38;5;241;43m=\u001b[39;49m\u001b[43mconcrete_function\u001b[49m\u001b[38;5;241;43m.\u001b[39;49m\u001b[43mcaptured_inputs\u001b[49m\u001b[43m)\u001b[49m\n",
      "File \u001b[1;32mC:\\ProgramData\\Anaconda3\\lib\\site-packages\\tensorflow\\python\\eager\\polymorphic_function\\monomorphic_function.py:1745\u001b[0m, in \u001b[0;36mConcreteFunction._call_flat\u001b[1;34m(self, args, captured_inputs, cancellation_manager)\u001b[0m\n\u001b[0;32m   1741\u001b[0m possible_gradient_type \u001b[38;5;241m=\u001b[39m gradients_util\u001b[38;5;241m.\u001b[39mPossibleTapeGradientTypes(args)\n\u001b[0;32m   1742\u001b[0m \u001b[38;5;28;01mif\u001b[39;00m (possible_gradient_type \u001b[38;5;241m==\u001b[39m gradients_util\u001b[38;5;241m.\u001b[39mPOSSIBLE_GRADIENT_TYPES_NONE\n\u001b[0;32m   1743\u001b[0m     \u001b[38;5;129;01mand\u001b[39;00m executing_eagerly):\n\u001b[0;32m   1744\u001b[0m   \u001b[38;5;66;03m# No tape is watching; skip to running the function.\u001b[39;00m\n\u001b[1;32m-> 1745\u001b[0m   \u001b[38;5;28;01mreturn\u001b[39;00m \u001b[38;5;28mself\u001b[39m\u001b[38;5;241m.\u001b[39m_build_call_outputs(\u001b[38;5;28;43mself\u001b[39;49m\u001b[38;5;241;43m.\u001b[39;49m\u001b[43m_inference_function\u001b[49m\u001b[38;5;241;43m.\u001b[39;49m\u001b[43mcall\u001b[49m\u001b[43m(\u001b[49m\n\u001b[0;32m   1746\u001b[0m \u001b[43m      \u001b[49m\u001b[43mctx\u001b[49m\u001b[43m,\u001b[49m\u001b[43m \u001b[49m\u001b[43margs\u001b[49m\u001b[43m,\u001b[49m\u001b[43m \u001b[49m\u001b[43mcancellation_manager\u001b[49m\u001b[38;5;241;43m=\u001b[39;49m\u001b[43mcancellation_manager\u001b[49m\u001b[43m)\u001b[49m)\n\u001b[0;32m   1747\u001b[0m forward_backward \u001b[38;5;241m=\u001b[39m \u001b[38;5;28mself\u001b[39m\u001b[38;5;241m.\u001b[39m_select_forward_and_backward_functions(\n\u001b[0;32m   1748\u001b[0m     args,\n\u001b[0;32m   1749\u001b[0m     possible_gradient_type,\n\u001b[0;32m   1750\u001b[0m     executing_eagerly)\n\u001b[0;32m   1751\u001b[0m forward_function, args_with_tangents \u001b[38;5;241m=\u001b[39m forward_backward\u001b[38;5;241m.\u001b[39mforward()\n",
      "File \u001b[1;32mC:\\ProgramData\\Anaconda3\\lib\\site-packages\\tensorflow\\python\\eager\\polymorphic_function\\monomorphic_function.py:378\u001b[0m, in \u001b[0;36m_EagerDefinedFunction.call\u001b[1;34m(self, ctx, args, cancellation_manager)\u001b[0m\n\u001b[0;32m    376\u001b[0m \u001b[38;5;28;01mwith\u001b[39;00m _InterpolateFunctionError(\u001b[38;5;28mself\u001b[39m):\n\u001b[0;32m    377\u001b[0m   \u001b[38;5;28;01mif\u001b[39;00m cancellation_manager \u001b[38;5;129;01mis\u001b[39;00m \u001b[38;5;28;01mNone\u001b[39;00m:\n\u001b[1;32m--> 378\u001b[0m     outputs \u001b[38;5;241m=\u001b[39m \u001b[43mexecute\u001b[49m\u001b[38;5;241;43m.\u001b[39;49m\u001b[43mexecute\u001b[49m\u001b[43m(\u001b[49m\n\u001b[0;32m    379\u001b[0m \u001b[43m        \u001b[49m\u001b[38;5;28;43mstr\u001b[39;49m\u001b[43m(\u001b[49m\u001b[38;5;28;43mself\u001b[39;49m\u001b[38;5;241;43m.\u001b[39;49m\u001b[43msignature\u001b[49m\u001b[38;5;241;43m.\u001b[39;49m\u001b[43mname\u001b[49m\u001b[43m)\u001b[49m\u001b[43m,\u001b[49m\n\u001b[0;32m    380\u001b[0m \u001b[43m        \u001b[49m\u001b[43mnum_outputs\u001b[49m\u001b[38;5;241;43m=\u001b[39;49m\u001b[38;5;28;43mself\u001b[39;49m\u001b[38;5;241;43m.\u001b[39;49m\u001b[43m_num_outputs\u001b[49m\u001b[43m,\u001b[49m\n\u001b[0;32m    381\u001b[0m \u001b[43m        \u001b[49m\u001b[43minputs\u001b[49m\u001b[38;5;241;43m=\u001b[39;49m\u001b[43margs\u001b[49m\u001b[43m,\u001b[49m\n\u001b[0;32m    382\u001b[0m \u001b[43m        \u001b[49m\u001b[43mattrs\u001b[49m\u001b[38;5;241;43m=\u001b[39;49m\u001b[43mattrs\u001b[49m\u001b[43m,\u001b[49m\n\u001b[0;32m    383\u001b[0m \u001b[43m        \u001b[49m\u001b[43mctx\u001b[49m\u001b[38;5;241;43m=\u001b[39;49m\u001b[43mctx\u001b[49m\u001b[43m)\u001b[49m\n\u001b[0;32m    384\u001b[0m   \u001b[38;5;28;01melse\u001b[39;00m:\n\u001b[0;32m    385\u001b[0m     outputs \u001b[38;5;241m=\u001b[39m execute\u001b[38;5;241m.\u001b[39mexecute_with_cancellation(\n\u001b[0;32m    386\u001b[0m         \u001b[38;5;28mstr\u001b[39m(\u001b[38;5;28mself\u001b[39m\u001b[38;5;241m.\u001b[39msignature\u001b[38;5;241m.\u001b[39mname),\n\u001b[0;32m    387\u001b[0m         num_outputs\u001b[38;5;241m=\u001b[39m\u001b[38;5;28mself\u001b[39m\u001b[38;5;241m.\u001b[39m_num_outputs,\n\u001b[1;32m   (...)\u001b[0m\n\u001b[0;32m    390\u001b[0m         ctx\u001b[38;5;241m=\u001b[39mctx,\n\u001b[0;32m    391\u001b[0m         cancellation_manager\u001b[38;5;241m=\u001b[39mcancellation_manager)\n",
      "File \u001b[1;32mC:\\ProgramData\\Anaconda3\\lib\\site-packages\\tensorflow\\python\\eager\\execute.py:52\u001b[0m, in \u001b[0;36mquick_execute\u001b[1;34m(op_name, num_outputs, inputs, attrs, ctx, name)\u001b[0m\n\u001b[0;32m     50\u001b[0m \u001b[38;5;28;01mtry\u001b[39;00m:\n\u001b[0;32m     51\u001b[0m   ctx\u001b[38;5;241m.\u001b[39mensure_initialized()\n\u001b[1;32m---> 52\u001b[0m   tensors \u001b[38;5;241m=\u001b[39m \u001b[43mpywrap_tfe\u001b[49m\u001b[38;5;241;43m.\u001b[39;49m\u001b[43mTFE_Py_Execute\u001b[49m\u001b[43m(\u001b[49m\u001b[43mctx\u001b[49m\u001b[38;5;241;43m.\u001b[39;49m\u001b[43m_handle\u001b[49m\u001b[43m,\u001b[49m\u001b[43m \u001b[49m\u001b[43mdevice_name\u001b[49m\u001b[43m,\u001b[49m\u001b[43m \u001b[49m\u001b[43mop_name\u001b[49m\u001b[43m,\u001b[49m\n\u001b[0;32m     53\u001b[0m \u001b[43m                                      \u001b[49m\u001b[43minputs\u001b[49m\u001b[43m,\u001b[49m\u001b[43m \u001b[49m\u001b[43mattrs\u001b[49m\u001b[43m,\u001b[49m\u001b[43m \u001b[49m\u001b[43mnum_outputs\u001b[49m\u001b[43m)\u001b[49m\n\u001b[0;32m     54\u001b[0m \u001b[38;5;28;01mexcept\u001b[39;00m core\u001b[38;5;241m.\u001b[39m_NotOkStatusException \u001b[38;5;28;01mas\u001b[39;00m e:\n\u001b[0;32m     55\u001b[0m   \u001b[38;5;28;01mif\u001b[39;00m name \u001b[38;5;129;01mis\u001b[39;00m \u001b[38;5;129;01mnot\u001b[39;00m \u001b[38;5;28;01mNone\u001b[39;00m:\n",
      "\u001b[1;31mKeyboardInterrupt\u001b[0m: "
     ]
    }
   ],
   "source": [
    "model.fit(X_train, y_train, epochs=2000, callbacks=[tb_callback])"
   ]
  },
  {
   "cell_type": "code",
   "execution_count": 181,
   "metadata": {},
   "outputs": [
    {
     "name": "stdout",
     "output_type": "stream",
     "text": [
      "Model: \"sequential_6\"\n",
      "_________________________________________________________________\n",
      " Layer (type)                Output Shape              Param #   \n",
      "=================================================================\n",
      " lstm_18 (LSTM)              (None, 60, 128)           198144    \n",
      "                                                                 \n",
      " lstm_19 (LSTM)              (None, 60, 256)           394240    \n",
      "                                                                 \n",
      " lstm_20 (LSTM)              (None, 128)               197120    \n",
      "                                                                 \n",
      " dense_18 (Dense)            (None, 128)               16512     \n",
      "                                                                 \n",
      " dense_19 (Dense)            (None, 64)                8256      \n",
      "                                                                 \n",
      " dense_20 (Dense)            (None, 9)                 585       \n",
      "                                                                 \n",
      "=================================================================\n",
      "Total params: 814,857\n",
      "Trainable params: 814,857\n",
      "Non-trainable params: 0\n",
      "_________________________________________________________________\n"
     ]
    }
   ],
   "source": [
    "model.summary()"
   ]
  },
  {
   "cell_type": "markdown",
   "metadata": {},
   "source": [
    "# 8. Make Predictions"
   ]
  },
  {
   "cell_type": "code",
   "execution_count": 182,
   "metadata": {},
   "outputs": [
    {
     "name": "stdout",
     "output_type": "stream",
     "text": [
      "WARNING:tensorflow:5 out of the last 8 calls to <function Model.make_predict_function.<locals>.predict_function at 0x0000022D00EE4A60> triggered tf.function retracing. Tracing is expensive and the excessive number of tracings could be due to (1) creating @tf.function repeatedly in a loop, (2) passing tensors with different shapes, (3) passing Python objects instead of tensors. For (1), please define your @tf.function outside of the loop. For (2), @tf.function has reduce_retracing=True option that can avoid unnecessary retracing. For (3), please refer to https://www.tensorflow.org/guide/function#controlling_retracing and https://www.tensorflow.org/api_docs/python/tf/function for  more details.\n",
      "1/1 [==============================] - 0s 359ms/step\n"
     ]
    }
   ],
   "source": [
    "res = model.predict(X_test)"
   ]
  },
  {
   "cell_type": "code",
   "execution_count": 183,
   "metadata": {},
   "outputs": [
    {
     "data": {
      "text/plain": [
       "'move_backword'"
      ]
     },
     "execution_count": 183,
     "metadata": {},
     "output_type": "execute_result"
    }
   ],
   "source": [
    "actions[np.argmax(res[4])]"
   ]
  },
  {
   "cell_type": "code",
   "execution_count": 184,
   "metadata": {},
   "outputs": [
    {
     "data": {
      "text/plain": [
       "'follow'"
      ]
     },
     "execution_count": 184,
     "metadata": {},
     "output_type": "execute_result"
    }
   ],
   "source": [
    "actions[np.argmax(y_test[4])]"
   ]
  },
  {
   "cell_type": "markdown",
   "metadata": {},
   "source": [
    "# 9. Save Weights"
   ]
  },
  {
   "cell_type": "code",
   "execution_count": 185,
   "metadata": {},
   "outputs": [],
   "source": [
    "model.save('action.h5')"
   ]
  },
  {
   "cell_type": "code",
   "execution_count": 217,
   "metadata": {},
   "outputs": [],
   "source": [
    "del model"
   ]
  },
  {
   "cell_type": "code",
   "execution_count": 186,
   "metadata": {},
   "outputs": [],
   "source": [
    "model.load_weights('action.h5')"
   ]
  },
  {
   "cell_type": "markdown",
   "metadata": {},
   "source": [
    "# 10. Evaluation using Confusion Matrix and Accuracy"
   ]
  },
  {
   "cell_type": "code",
   "execution_count": 187,
   "metadata": {},
   "outputs": [],
   "source": [
    "from sklearn.metrics import multilabel_confusion_matrix, accuracy_score"
   ]
  },
  {
   "cell_type": "code",
   "execution_count": 188,
   "metadata": {},
   "outputs": [
    {
     "name": "stdout",
     "output_type": "stream",
     "text": [
      "1/1 [==============================] - 0s 43ms/step\n"
     ]
    }
   ],
   "source": [
    "yhat = model.predict(X_test)"
   ]
  },
  {
   "cell_type": "code",
   "execution_count": 189,
   "metadata": {},
   "outputs": [],
   "source": [
    "ytrue = np.argmax(y_test, axis=1).tolist()\n",
    "yhat = np.argmax(yhat, axis=1).tolist()"
   ]
  },
  {
   "cell_type": "code",
   "execution_count": 190,
   "metadata": {},
   "outputs": [
    {
     "data": {
      "text/plain": [
       "array([[[13,  0],\n",
       "        [ 1,  0]],\n",
       "\n",
       "       [[11,  0],\n",
       "        [ 3,  0]],\n",
       "\n",
       "       [[13,  0],\n",
       "        [ 1,  0]],\n",
       "\n",
       "       [[10,  0],\n",
       "        [ 4,  0]],\n",
       "\n",
       "       [[13,  0],\n",
       "        [ 1,  0]],\n",
       "\n",
       "       [[12,  0],\n",
       "        [ 2,  0]],\n",
       "\n",
       "       [[13,  0],\n",
       "        [ 1,  0]],\n",
       "\n",
       "       [[ 0, 13],\n",
       "        [ 0,  1]]], dtype=int64)"
      ]
     },
     "execution_count": 190,
     "metadata": {},
     "output_type": "execute_result"
    }
   ],
   "source": [
    "multilabel_confusion_matrix(ytrue, yhat)"
   ]
  },
  {
   "cell_type": "code",
   "execution_count": 191,
   "metadata": {},
   "outputs": [
    {
     "data": {
      "text/plain": [
       "0.07142857142857142"
      ]
     },
     "execution_count": 191,
     "metadata": {},
     "output_type": "execute_result"
    }
   ],
   "source": [
    "accuracy_score(ytrue, yhat)"
   ]
  },
  {
   "cell_type": "markdown",
   "metadata": {},
   "source": [
    "# 11. Test in Real Time"
   ]
  },
  {
   "cell_type": "code",
   "execution_count": 19,
   "metadata": {},
   "outputs": [],
   "source": [
    "from scipy import stats"
   ]
  },
  {
   "cell_type": "code",
   "execution_count": 20,
   "metadata": {},
   "outputs": [],
   "source": [
    "colors = [(245,117,16), (117,245,16), (16,117,245)]\n",
    "def prob_viz(res, actions, input_frame, colors):\n",
    "    output_frame = input_frame.copy()\n",
    "    for num, prob in enumerate(res):\n",
    "        cv2.rectangle(output_frame, (0,60+num*40), (int(prob*100), 90+num*40), colors[num], -1)\n",
    "        cv2.putText(output_frame, actions[num], (0, 85+num*40), cv2.FONT_HERSHEY_SIMPLEX, 1, (255,255,255), 2, cv2.LINE_AA)\n",
    "        \n",
    "    return output_frame"
   ]
  },
  {
   "cell_type": "code",
   "execution_count": 21,
   "metadata": {},
   "outputs": [
    {
     "ename": "NameError",
     "evalue": "name 'res' is not defined",
     "output_type": "error",
     "traceback": [
      "\u001b[1;31m---------------------------------------------------------------------------\u001b[0m",
      "\u001b[1;31mNameError\u001b[0m                                 Traceback (most recent call last)",
      "Cell \u001b[1;32mIn[21], line 2\u001b[0m\n\u001b[0;32m      1\u001b[0m plt\u001b[38;5;241m.\u001b[39mfigure(figsize\u001b[38;5;241m=\u001b[39m(\u001b[38;5;241m18\u001b[39m,\u001b[38;5;241m18\u001b[39m))\n\u001b[1;32m----> 2\u001b[0m plt\u001b[38;5;241m.\u001b[39mimshow(prob_viz(\u001b[43mres\u001b[49m, actions, image, colors))\n",
      "\u001b[1;31mNameError\u001b[0m: name 'res' is not defined"
     ]
    },
    {
     "data": {
      "text/plain": [
       "<Figure size 1800x1800 with 0 Axes>"
      ]
     },
     "metadata": {},
     "output_type": "display_data"
    }
   ],
   "source": [
    "plt.figure(figsize=(18,18))\n",
    "plt.imshow(prob_viz(res, actions, image, colors))"
   ]
  },
  {
   "cell_type": "code",
   "execution_count": 22,
   "metadata": {},
   "outputs": [
    {
     "ename": "error",
     "evalue": "OpenCV(4.7.0) D:\\a\\opencv-python\\opencv-python\\opencv\\modules\\imgproc\\src\\color.cpp:182: error: (-215:Assertion failed) !_src.empty() in function 'cv::cvtColor'\n",
     "output_type": "error",
     "traceback": [
      "\u001b[1;31m---------------------------------------------------------------------------\u001b[0m",
      "\u001b[1;31merror\u001b[0m                                     Traceback (most recent call last)",
      "Cell \u001b[1;32mIn[22], line 16\u001b[0m\n\u001b[0;32m     13\u001b[0m ret, frame \u001b[38;5;241m=\u001b[39m cap\u001b[38;5;241m.\u001b[39mread()\n\u001b[0;32m     15\u001b[0m \u001b[38;5;66;03m# Make detections\u001b[39;00m\n\u001b[1;32m---> 16\u001b[0m image, results \u001b[38;5;241m=\u001b[39m \u001b[43mmediapipe_detection\u001b[49m\u001b[43m(\u001b[49m\u001b[43mframe\u001b[49m\u001b[43m,\u001b[49m\u001b[43m \u001b[49m\u001b[43mholistic\u001b[49m\u001b[43m)\u001b[49m\n\u001b[0;32m     17\u001b[0m \u001b[38;5;28mprint\u001b[39m(results)\n\u001b[0;32m     19\u001b[0m \u001b[38;5;66;03m# Draw landmarks\u001b[39;00m\n",
      "Cell \u001b[1;32mIn[12], line 2\u001b[0m, in \u001b[0;36mmediapipe_detection\u001b[1;34m(image, model)\u001b[0m\n\u001b[0;32m      1\u001b[0m \u001b[38;5;28;01mdef\u001b[39;00m \u001b[38;5;21mmediapipe_detection\u001b[39m(image, model):\n\u001b[1;32m----> 2\u001b[0m     image \u001b[38;5;241m=\u001b[39m \u001b[43mcv2\u001b[49m\u001b[38;5;241;43m.\u001b[39;49m\u001b[43mcvtColor\u001b[49m\u001b[43m(\u001b[49m\u001b[43mimage\u001b[49m\u001b[43m,\u001b[49m\u001b[43m \u001b[49m\u001b[43mcv2\u001b[49m\u001b[38;5;241;43m.\u001b[39;49m\u001b[43mCOLOR_BGR2RGB\u001b[49m\u001b[43m)\u001b[49m \u001b[38;5;66;03m# COLOR CONVERSION BGR 2 RGB\u001b[39;00m\n\u001b[0;32m      3\u001b[0m     image\u001b[38;5;241m.\u001b[39mflags\u001b[38;5;241m.\u001b[39mwriteable \u001b[38;5;241m=\u001b[39m \u001b[38;5;28;01mFalse\u001b[39;00m                  \u001b[38;5;66;03m# Image is no longer writeable\u001b[39;00m\n\u001b[0;32m      4\u001b[0m     results \u001b[38;5;241m=\u001b[39m model\u001b[38;5;241m.\u001b[39mprocess(image)                 \u001b[38;5;66;03m# Make prediction\u001b[39;00m\n",
      "\u001b[1;31merror\u001b[0m: OpenCV(4.7.0) D:\\a\\opencv-python\\opencv-python\\opencv\\modules\\imgproc\\src\\color.cpp:182: error: (-215:Assertion failed) !_src.empty() in function 'cv::cvtColor'\n"
     ]
    }
   ],
   "source": [
    "# 1. New detection variables\n",
    "sequence = []\n",
    "sentence = []\n",
    "predictions = []\n",
    "threshold = 0.5\n",
    "\n",
    "cap = cv2.VideoCapture(3)\n",
    "# Set mediapipe model \n",
    "with mp_holistic.Holistic(min_detection_confidence=0.5, min_tracking_confidence=0.5) as holistic:\n",
    "    while cap.isOpened():\n",
    "\n",
    "        # Read feed\n",
    "        ret, frame = cap.read()\n",
    "\n",
    "        # Make detections\n",
    "        image, results = mediapipe_detection(frame, holistic)\n",
    "        print(results)\n",
    "        \n",
    "        # Draw landmarks\n",
    "        draw_styled_landmarks(image, results)\n",
    "        \n",
    "        # 2. Prediction logic\n",
    "        keypoints = extract_keypoints(results)\n",
    "        sequence.append(keypoints)\n",
    "        sequence = sequence[-60:]\n",
    "        \n",
    "        if len(sequence) == 60:\n",
    "            res = model.predict(np.expand_dims(sequence, axis=0))[0]\n",
    "            print(actions[np.argmax(res)])\n",
    "            predictions.append(np.argmax(res))\n",
    "            \n",
    "            \n",
    "        #3. Viz logic\n",
    "            if np.unique(predictions[-10:])[0]==np.argmax(res): \n",
    "                if res[np.argmax(res)] > threshold: \n",
    "                    \n",
    "                    if len(sentence) > 0: \n",
    "                        if actions[np.argmax(res)] != sentence[-1]:\n",
    "                            sentence.append(actions[np.argmax(res)])\n",
    "                    else:\n",
    "                        sentence.append(actions[np.argmax(res)])\n",
    "\n",
    "            if len(sentence) > 5: \n",
    "                sentence = sentence[-5:]\n",
    "\n",
    "            # Viz probabilities\n",
    "            image = prob_viz(res, actions, image, colors)\n",
    "            \n",
    "        cv2.rectangle(image, (0,0), (640, 40), (245, 117, 16), -1)\n",
    "        cv2.putText(image, ' '.join(sentence), (3,30), \n",
    "                       cv2.FONT_HERSHEY_SIMPLEX, 1, (255, 255, 255), 2, cv2.LINE_AA)\n",
    "        \n",
    "        # Show to screen\n",
    "        cv2.imshow('OpenCV Feed', image)\n",
    "\n",
    "        # Break gracefully\n",
    "        if cv2.waitKey(10) & 0xFF == ord('q'):\n",
    "            break\n",
    "    cap.release()\n",
    "    cv2.destroyAllWindows()"
   ]
  },
  {
   "cell_type": "code",
   "execution_count": 200,
   "metadata": {},
   "outputs": [],
   "source": [
    "cap.release()\n",
    "cv2.destroyAllWindows()"
   ]
  },
  {
   "cell_type": "code",
   "execution_count": null,
   "metadata": {},
   "outputs": [],
   "source": []
  }
 ],
 "metadata": {
  "kernelspec": {
   "display_name": "Python 3 (ipykernel)",
   "language": "python",
   "name": "python3"
  },
  "language_info": {
   "codemirror_mode": {
    "name": "ipython",
    "version": 3
   },
   "file_extension": ".py",
   "mimetype": "text/x-python",
   "name": "python",
   "nbconvert_exporter": "python",
   "pygments_lexer": "ipython3",
   "version": "3.10.9"
  }
 },
 "nbformat": 4,
 "nbformat_minor": 4
}
